{
  "nbformat": 4,
  "nbformat_minor": 0,
  "metadata": {
    "colab": {
      "provenance": [],
      "include_colab_link": true
    },
    "kernelspec": {
      "name": "python3",
      "display_name": "Python 3"
    },
    "language_info": {
      "name": "python"
    }
  },
  "cells": [
    {
      "cell_type": "markdown",
      "metadata": {
        "id": "view-in-github",
        "colab_type": "text"
      },
      "source": [
        "<a href=\"https://colab.research.google.com/github/idityaGE/Generative-AI/blob/main/Master%20Vector%20Database%20for%20LLMs/2_Pinecone_demo.ipynb\" target=\"_parent\"><img src=\"https://colab.research.google.com/assets/colab-badge.svg\" alt=\"Open In Colab\"/></a>"
      ]
    },
    {
      "cell_type": "markdown",
      "source": [
        "## Install All the Required Packages"
      ],
      "metadata": {
        "id": "DVI3tJKR4naq"
      }
    },
    {
      "cell_type": "code",
      "execution_count": null,
      "metadata": {
        "colab": {
          "base_uri": "https://localhost:8080/"
        },
        "id": "3APQ7Sdk2H2A",
        "outputId": "3b1aa894-9c79-4830-9ddc-07f7eb5b682f",
        "collapsed": true
      },
      "outputs": [
        {
          "output_type": "stream",
          "name": "stdout",
          "text": [
            "Requirement already satisfied: langchain in /usr/local/lib/python3.10/dist-packages (0.3.12)\n",
            "Requirement already satisfied: PyYAML>=5.3 in /usr/local/lib/python3.10/dist-packages (from langchain) (6.0.2)\n",
            "Requirement already satisfied: SQLAlchemy<3,>=1.4 in /usr/local/lib/python3.10/dist-packages (from langchain) (2.0.36)\n",
            "Requirement already satisfied: aiohttp<4.0.0,>=3.8.3 in /usr/local/lib/python3.10/dist-packages (from langchain) (3.11.10)\n",
            "Requirement already satisfied: async-timeout<5.0.0,>=4.0.0 in /usr/local/lib/python3.10/dist-packages (from langchain) (4.0.3)\n",
            "Requirement already satisfied: langchain-core<0.4.0,>=0.3.25 in /usr/local/lib/python3.10/dist-packages (from langchain) (0.3.25)\n",
            "Requirement already satisfied: langchain-text-splitters<0.4.0,>=0.3.3 in /usr/local/lib/python3.10/dist-packages (from langchain) (0.3.3)\n",
            "Requirement already satisfied: langsmith<0.3,>=0.1.17 in /usr/local/lib/python3.10/dist-packages (from langchain) (0.2.3)\n",
            "Requirement already satisfied: numpy<2,>=1.22.4 in /usr/local/lib/python3.10/dist-packages (from langchain) (1.26.4)\n",
            "Requirement already satisfied: pydantic<3.0.0,>=2.7.4 in /usr/local/lib/python3.10/dist-packages (from langchain) (2.10.3)\n",
            "Requirement already satisfied: requests<3,>=2 in /usr/local/lib/python3.10/dist-packages (from langchain) (2.32.3)\n",
            "Requirement already satisfied: tenacity!=8.4.0,<10,>=8.1.0 in /usr/local/lib/python3.10/dist-packages (from langchain) (9.0.0)\n",
            "Requirement already satisfied: aiohappyeyeballs>=2.3.0 in /usr/local/lib/python3.10/dist-packages (from aiohttp<4.0.0,>=3.8.3->langchain) (2.4.4)\n",
            "Requirement already satisfied: aiosignal>=1.1.2 in /usr/local/lib/python3.10/dist-packages (from aiohttp<4.0.0,>=3.8.3->langchain) (1.3.2)\n",
            "Requirement already satisfied: attrs>=17.3.0 in /usr/local/lib/python3.10/dist-packages (from aiohttp<4.0.0,>=3.8.3->langchain) (24.3.0)\n",
            "Requirement already satisfied: frozenlist>=1.1.1 in /usr/local/lib/python3.10/dist-packages (from aiohttp<4.0.0,>=3.8.3->langchain) (1.5.0)\n",
            "Requirement already satisfied: multidict<7.0,>=4.5 in /usr/local/lib/python3.10/dist-packages (from aiohttp<4.0.0,>=3.8.3->langchain) (6.1.0)\n",
            "Requirement already satisfied: propcache>=0.2.0 in /usr/local/lib/python3.10/dist-packages (from aiohttp<4.0.0,>=3.8.3->langchain) (0.2.1)\n",
            "Requirement already satisfied: yarl<2.0,>=1.17.0 in /usr/local/lib/python3.10/dist-packages (from aiohttp<4.0.0,>=3.8.3->langchain) (1.18.3)\n",
            "Requirement already satisfied: jsonpatch<2.0,>=1.33 in /usr/local/lib/python3.10/dist-packages (from langchain-core<0.4.0,>=0.3.25->langchain) (1.33)\n",
            "Requirement already satisfied: packaging<25,>=23.2 in /usr/local/lib/python3.10/dist-packages (from langchain-core<0.4.0,>=0.3.25->langchain) (24.2)\n",
            "Requirement already satisfied: typing-extensions>=4.7 in /usr/local/lib/python3.10/dist-packages (from langchain-core<0.4.0,>=0.3.25->langchain) (4.12.2)\n",
            "Requirement already satisfied: httpx<1,>=0.23.0 in /usr/local/lib/python3.10/dist-packages (from langsmith<0.3,>=0.1.17->langchain) (0.28.1)\n",
            "Requirement already satisfied: orjson<4.0.0,>=3.9.14 in /usr/local/lib/python3.10/dist-packages (from langsmith<0.3,>=0.1.17->langchain) (3.10.12)\n",
            "Requirement already satisfied: requests-toolbelt<2.0.0,>=1.0.0 in /usr/local/lib/python3.10/dist-packages (from langsmith<0.3,>=0.1.17->langchain) (1.0.0)\n",
            "Requirement already satisfied: annotated-types>=0.6.0 in /usr/local/lib/python3.10/dist-packages (from pydantic<3.0.0,>=2.7.4->langchain) (0.7.0)\n",
            "Requirement already satisfied: pydantic-core==2.27.1 in /usr/local/lib/python3.10/dist-packages (from pydantic<3.0.0,>=2.7.4->langchain) (2.27.1)\n",
            "Requirement already satisfied: charset-normalizer<4,>=2 in /usr/local/lib/python3.10/dist-packages (from requests<3,>=2->langchain) (3.4.0)\n",
            "Requirement already satisfied: idna<4,>=2.5 in /usr/local/lib/python3.10/dist-packages (from requests<3,>=2->langchain) (3.10)\n",
            "Requirement already satisfied: urllib3<3,>=1.21.1 in /usr/local/lib/python3.10/dist-packages (from requests<3,>=2->langchain) (2.2.3)\n",
            "Requirement already satisfied: certifi>=2017.4.17 in /usr/local/lib/python3.10/dist-packages (from requests<3,>=2->langchain) (2024.12.14)\n",
            "Requirement already satisfied: greenlet!=0.4.17 in /usr/local/lib/python3.10/dist-packages (from SQLAlchemy<3,>=1.4->langchain) (3.1.1)\n",
            "Requirement already satisfied: anyio in /usr/local/lib/python3.10/dist-packages (from httpx<1,>=0.23.0->langsmith<0.3,>=0.1.17->langchain) (3.7.1)\n",
            "Requirement already satisfied: httpcore==1.* in /usr/local/lib/python3.10/dist-packages (from httpx<1,>=0.23.0->langsmith<0.3,>=0.1.17->langchain) (1.0.7)\n",
            "Requirement already satisfied: h11<0.15,>=0.13 in /usr/local/lib/python3.10/dist-packages (from httpcore==1.*->httpx<1,>=0.23.0->langsmith<0.3,>=0.1.17->langchain) (0.14.0)\n",
            "Requirement already satisfied: jsonpointer>=1.9 in /usr/local/lib/python3.10/dist-packages (from jsonpatch<2.0,>=1.33->langchain-core<0.4.0,>=0.3.25->langchain) (3.0.0)\n",
            "Requirement already satisfied: sniffio>=1.1 in /usr/local/lib/python3.10/dist-packages (from anyio->httpx<1,>=0.23.0->langsmith<0.3,>=0.1.17->langchain) (1.3.1)\n",
            "Requirement already satisfied: exceptiongroup in /usr/local/lib/python3.10/dist-packages (from anyio->httpx<1,>=0.23.0->langsmith<0.3,>=0.1.17->langchain) (1.2.2)\n",
            "Collecting pinecone-client\n",
            "  Downloading pinecone_client-5.0.1-py3-none-any.whl.metadata (19 kB)\n",
            "Requirement already satisfied: certifi>=2019.11.17 in /usr/local/lib/python3.10/dist-packages (from pinecone-client) (2024.12.14)\n",
            "Collecting pinecone-plugin-inference<2.0.0,>=1.0.3 (from pinecone-client)\n",
            "  Downloading pinecone_plugin_inference-1.1.0-py3-none-any.whl.metadata (2.2 kB)\n",
            "Collecting pinecone-plugin-interface<0.0.8,>=0.0.7 (from pinecone-client)\n",
            "  Downloading pinecone_plugin_interface-0.0.7-py3-none-any.whl.metadata (1.2 kB)\n",
            "Requirement already satisfied: tqdm>=4.64.1 in /usr/local/lib/python3.10/dist-packages (from pinecone-client) (4.67.1)\n",
            "Requirement already satisfied: typing-extensions>=3.7.4 in /usr/local/lib/python3.10/dist-packages (from pinecone-client) (4.12.2)\n",
            "Requirement already satisfied: urllib3>=1.26.0 in /usr/local/lib/python3.10/dist-packages (from pinecone-client) (2.2.3)\n",
            "Downloading pinecone_client-5.0.1-py3-none-any.whl (244 kB)\n",
            "\u001b[2K   \u001b[90m━━━━━━━━━━━━━━━━━━━━━━━━━━━━━━━━━━━━━━━━\u001b[0m \u001b[32m244.8/244.8 kB\u001b[0m \u001b[31m6.2 MB/s\u001b[0m eta \u001b[36m0:00:00\u001b[0m\n",
            "\u001b[?25hDownloading pinecone_plugin_inference-1.1.0-py3-none-any.whl (85 kB)\n",
            "\u001b[2K   \u001b[90m━━━━━━━━━━━━━━━━━━━━━━━━━━━━━━━━━━━━━━━━\u001b[0m \u001b[32m85.4/85.4 kB\u001b[0m \u001b[31m6.3 MB/s\u001b[0m eta \u001b[36m0:00:00\u001b[0m\n",
            "\u001b[?25hDownloading pinecone_plugin_interface-0.0.7-py3-none-any.whl (6.2 kB)\n",
            "Installing collected packages: pinecone-plugin-interface, pinecone-plugin-inference, pinecone-client\n",
            "Successfully installed pinecone-client-5.0.1 pinecone-plugin-inference-1.1.0 pinecone-plugin-interface-0.0.7\n",
            "Collecting pypdf\n",
            "  Downloading pypdf-5.1.0-py3-none-any.whl.metadata (7.2 kB)\n",
            "Requirement already satisfied: typing_extensions>=4.0 in /usr/local/lib/python3.10/dist-packages (from pypdf) (4.12.2)\n",
            "Downloading pypdf-5.1.0-py3-none-any.whl (297 kB)\n",
            "\u001b[2K   \u001b[90m━━━━━━━━━━━━━━━━━━━━━━━━━━━━━━━━━━━━━━━━\u001b[0m \u001b[32m298.0/298.0 kB\u001b[0m \u001b[31m6.0 MB/s\u001b[0m eta \u001b[36m0:00:00\u001b[0m\n",
            "\u001b[?25hInstalling collected packages: pypdf\n",
            "Successfully installed pypdf-5.1.0\n"
          ]
        }
      ],
      "source": [
        "!pip install langchain\n",
        "!pip install pinecone-client\n",
        "!pip install pypdf"
      ]
    },
    {
      "cell_type": "code",
      "source": [
        "!pip install google-generativeai\n",
        "!pip install tiktoken"
      ],
      "metadata": {
        "colab": {
          "base_uri": "https://localhost:8080/"
        },
        "id": "_P_QHai95FgW",
        "outputId": "2429a07b-34b1-4350-f5f2-4d53de7ec632",
        "collapsed": true
      },
      "execution_count": null,
      "outputs": [
        {
          "output_type": "stream",
          "name": "stdout",
          "text": [
            "Requirement already satisfied: google-generativeai in /usr/local/lib/python3.10/dist-packages (0.8.3)\n",
            "Requirement already satisfied: google-ai-generativelanguage==0.6.10 in /usr/local/lib/python3.10/dist-packages (from google-generativeai) (0.6.10)\n",
            "Requirement already satisfied: google-api-core in /usr/local/lib/python3.10/dist-packages (from google-generativeai) (2.19.2)\n",
            "Requirement already satisfied: google-api-python-client in /usr/local/lib/python3.10/dist-packages (from google-generativeai) (2.155.0)\n",
            "Requirement already satisfied: google-auth>=2.15.0 in /usr/local/lib/python3.10/dist-packages (from google-generativeai) (2.27.0)\n",
            "Requirement already satisfied: protobuf in /usr/local/lib/python3.10/dist-packages (from google-generativeai) (4.25.5)\n",
            "Requirement already satisfied: pydantic in /usr/local/lib/python3.10/dist-packages (from google-generativeai) (2.10.3)\n",
            "Requirement already satisfied: tqdm in /usr/local/lib/python3.10/dist-packages (from google-generativeai) (4.67.1)\n",
            "Requirement already satisfied: typing-extensions in /usr/local/lib/python3.10/dist-packages (from google-generativeai) (4.12.2)\n",
            "Requirement already satisfied: proto-plus<2.0.0dev,>=1.22.3 in /usr/local/lib/python3.10/dist-packages (from google-ai-generativelanguage==0.6.10->google-generativeai) (1.25.0)\n",
            "Requirement already satisfied: googleapis-common-protos<2.0.dev0,>=1.56.2 in /usr/local/lib/python3.10/dist-packages (from google-api-core->google-generativeai) (1.66.0)\n",
            "Requirement already satisfied: requests<3.0.0.dev0,>=2.18.0 in /usr/local/lib/python3.10/dist-packages (from google-api-core->google-generativeai) (2.32.3)\n",
            "Requirement already satisfied: cachetools<6.0,>=2.0.0 in /usr/local/lib/python3.10/dist-packages (from google-auth>=2.15.0->google-generativeai) (5.5.0)\n",
            "Requirement already satisfied: pyasn1-modules>=0.2.1 in /usr/local/lib/python3.10/dist-packages (from google-auth>=2.15.0->google-generativeai) (0.4.1)\n",
            "Requirement already satisfied: rsa<5,>=3.1.4 in /usr/local/lib/python3.10/dist-packages (from google-auth>=2.15.0->google-generativeai) (4.9)\n",
            "Requirement already satisfied: httplib2<1.dev0,>=0.19.0 in /usr/local/lib/python3.10/dist-packages (from google-api-python-client->google-generativeai) (0.22.0)\n",
            "Requirement already satisfied: google-auth-httplib2<1.0.0,>=0.2.0 in /usr/local/lib/python3.10/dist-packages (from google-api-python-client->google-generativeai) (0.2.0)\n",
            "Requirement already satisfied: uritemplate<5,>=3.0.1 in /usr/local/lib/python3.10/dist-packages (from google-api-python-client->google-generativeai) (4.1.1)\n",
            "Requirement already satisfied: annotated-types>=0.6.0 in /usr/local/lib/python3.10/dist-packages (from pydantic->google-generativeai) (0.7.0)\n",
            "Requirement already satisfied: pydantic-core==2.27.1 in /usr/local/lib/python3.10/dist-packages (from pydantic->google-generativeai) (2.27.1)\n",
            "Requirement already satisfied: grpcio<2.0dev,>=1.33.2 in /usr/local/lib/python3.10/dist-packages (from google-api-core[grpc]!=2.0.*,!=2.1.*,!=2.10.*,!=2.2.*,!=2.3.*,!=2.4.*,!=2.5.*,!=2.6.*,!=2.7.*,!=2.8.*,!=2.9.*,<3.0.0dev,>=1.34.1->google-ai-generativelanguage==0.6.10->google-generativeai) (1.68.1)\n",
            "Requirement already satisfied: grpcio-status<2.0.dev0,>=1.33.2 in /usr/local/lib/python3.10/dist-packages (from google-api-core[grpc]!=2.0.*,!=2.1.*,!=2.10.*,!=2.2.*,!=2.3.*,!=2.4.*,!=2.5.*,!=2.6.*,!=2.7.*,!=2.8.*,!=2.9.*,<3.0.0dev,>=1.34.1->google-ai-generativelanguage==0.6.10->google-generativeai) (1.62.3)\n",
            "Requirement already satisfied: pyparsing!=3.0.0,!=3.0.1,!=3.0.2,!=3.0.3,<4,>=2.4.2 in /usr/local/lib/python3.10/dist-packages (from httplib2<1.dev0,>=0.19.0->google-api-python-client->google-generativeai) (3.2.0)\n",
            "Requirement already satisfied: pyasn1<0.7.0,>=0.4.6 in /usr/local/lib/python3.10/dist-packages (from pyasn1-modules>=0.2.1->google-auth>=2.15.0->google-generativeai) (0.6.1)\n",
            "Requirement already satisfied: charset-normalizer<4,>=2 in /usr/local/lib/python3.10/dist-packages (from requests<3.0.0.dev0,>=2.18.0->google-api-core->google-generativeai) (3.4.0)\n",
            "Requirement already satisfied: idna<4,>=2.5 in /usr/local/lib/python3.10/dist-packages (from requests<3.0.0.dev0,>=2.18.0->google-api-core->google-generativeai) (3.10)\n",
            "Requirement already satisfied: urllib3<3,>=1.21.1 in /usr/local/lib/python3.10/dist-packages (from requests<3.0.0.dev0,>=2.18.0->google-api-core->google-generativeai) (2.2.3)\n",
            "Requirement already satisfied: certifi>=2017.4.17 in /usr/local/lib/python3.10/dist-packages (from requests<3.0.0.dev0,>=2.18.0->google-api-core->google-generativeai) (2024.12.14)\n",
            "Collecting tiktoken\n",
            "  Downloading tiktoken-0.8.0-cp310-cp310-manylinux_2_17_x86_64.manylinux2014_x86_64.whl.metadata (6.6 kB)\n",
            "Requirement already satisfied: regex>=2022.1.18 in /usr/local/lib/python3.10/dist-packages (from tiktoken) (2024.11.6)\n",
            "Requirement already satisfied: requests>=2.26.0 in /usr/local/lib/python3.10/dist-packages (from tiktoken) (2.32.3)\n",
            "Requirement already satisfied: charset-normalizer<4,>=2 in /usr/local/lib/python3.10/dist-packages (from requests>=2.26.0->tiktoken) (3.4.0)\n",
            "Requirement already satisfied: idna<4,>=2.5 in /usr/local/lib/python3.10/dist-packages (from requests>=2.26.0->tiktoken) (3.10)\n",
            "Requirement already satisfied: urllib3<3,>=1.21.1 in /usr/local/lib/python3.10/dist-packages (from requests>=2.26.0->tiktoken) (2.2.3)\n",
            "Requirement already satisfied: certifi>=2017.4.17 in /usr/local/lib/python3.10/dist-packages (from requests>=2.26.0->tiktoken) (2024.12.14)\n",
            "Downloading tiktoken-0.8.0-cp310-cp310-manylinux_2_17_x86_64.manylinux2014_x86_64.whl (1.2 MB)\n",
            "\u001b[2K   \u001b[90m━━━━━━━━━━━━━━━━━━━━━━━━━━━━━━━━━━━━━━━━\u001b[0m \u001b[32m1.2/1.2 MB\u001b[0m \u001b[31m13.1 MB/s\u001b[0m eta \u001b[36m0:00:00\u001b[0m\n",
            "\u001b[?25hInstalling collected packages: tiktoken\n",
            "Successfully installed tiktoken-0.8.0\n"
          ]
        }
      ]
    },
    {
      "cell_type": "code",
      "source": [
        "!pip install -U langchain-community langchain-google-genai"
      ],
      "metadata": {
        "colab": {
          "base_uri": "https://localhost:8080/"
        },
        "collapsed": true,
        "id": "JYpFLoSR2ikp",
        "outputId": "c4e93ab2-7d52-43a1-f021-c522d27df4a8"
      },
      "execution_count": null,
      "outputs": [
        {
          "output_type": "stream",
          "name": "stdout",
          "text": [
            "Collecting langchain-community\n",
            "  Downloading langchain_community-0.3.13-py3-none-any.whl.metadata (2.9 kB)\n",
            "Collecting langchain-google-genai\n",
            "  Downloading langchain_google_genai-2.0.7-py3-none-any.whl.metadata (3.6 kB)\n",
            "Requirement already satisfied: PyYAML>=5.3 in /usr/local/lib/python3.10/dist-packages (from langchain-community) (6.0.2)\n",
            "Requirement already satisfied: SQLAlchemy<3,>=1.4 in /usr/local/lib/python3.10/dist-packages (from langchain-community) (2.0.36)\n",
            "Requirement already satisfied: aiohttp<4.0.0,>=3.8.3 in /usr/local/lib/python3.10/dist-packages (from langchain-community) (3.11.10)\n",
            "Collecting dataclasses-json<0.7,>=0.5.7 (from langchain-community)\n",
            "  Downloading dataclasses_json-0.6.7-py3-none-any.whl.metadata (25 kB)\n",
            "Collecting httpx-sse<0.5.0,>=0.4.0 (from langchain-community)\n",
            "  Downloading httpx_sse-0.4.0-py3-none-any.whl.metadata (9.0 kB)\n",
            "Collecting langchain<0.4.0,>=0.3.13 (from langchain-community)\n",
            "  Downloading langchain-0.3.13-py3-none-any.whl.metadata (7.1 kB)\n",
            "Collecting langchain-core<0.4.0,>=0.3.27 (from langchain-community)\n",
            "  Downloading langchain_core-0.3.28-py3-none-any.whl.metadata (6.3 kB)\n",
            "Requirement already satisfied: langsmith<0.3,>=0.1.125 in /usr/local/lib/python3.10/dist-packages (from langchain-community) (0.2.3)\n",
            "Requirement already satisfied: numpy<2,>=1.22.4 in /usr/local/lib/python3.10/dist-packages (from langchain-community) (1.26.4)\n",
            "Collecting pydantic-settings<3.0.0,>=2.4.0 (from langchain-community)\n",
            "  Downloading pydantic_settings-2.7.1-py3-none-any.whl.metadata (3.5 kB)\n",
            "Requirement already satisfied: requests<3,>=2 in /usr/local/lib/python3.10/dist-packages (from langchain-community) (2.32.3)\n",
            "Requirement already satisfied: tenacity!=8.4.0,<10,>=8.1.0 in /usr/local/lib/python3.10/dist-packages (from langchain-community) (9.0.0)\n",
            "Collecting filetype<2.0.0,>=1.2.0 (from langchain-google-genai)\n",
            "  Downloading filetype-1.2.0-py2.py3-none-any.whl.metadata (6.5 kB)\n",
            "Requirement already satisfied: google-generativeai<0.9.0,>=0.8.0 in /usr/local/lib/python3.10/dist-packages (from langchain-google-genai) (0.8.3)\n",
            "Requirement already satisfied: pydantic<3,>=2 in /usr/local/lib/python3.10/dist-packages (from langchain-google-genai) (2.10.3)\n",
            "Requirement already satisfied: aiohappyeyeballs>=2.3.0 in /usr/local/lib/python3.10/dist-packages (from aiohttp<4.0.0,>=3.8.3->langchain-community) (2.4.4)\n",
            "Requirement already satisfied: aiosignal>=1.1.2 in /usr/local/lib/python3.10/dist-packages (from aiohttp<4.0.0,>=3.8.3->langchain-community) (1.3.2)\n",
            "Requirement already satisfied: async-timeout<6.0,>=4.0 in /usr/local/lib/python3.10/dist-packages (from aiohttp<4.0.0,>=3.8.3->langchain-community) (4.0.3)\n",
            "Requirement already satisfied: attrs>=17.3.0 in /usr/local/lib/python3.10/dist-packages (from aiohttp<4.0.0,>=3.8.3->langchain-community) (24.3.0)\n",
            "Requirement already satisfied: frozenlist>=1.1.1 in /usr/local/lib/python3.10/dist-packages (from aiohttp<4.0.0,>=3.8.3->langchain-community) (1.5.0)\n",
            "Requirement already satisfied: multidict<7.0,>=4.5 in /usr/local/lib/python3.10/dist-packages (from aiohttp<4.0.0,>=3.8.3->langchain-community) (6.1.0)\n",
            "Requirement already satisfied: propcache>=0.2.0 in /usr/local/lib/python3.10/dist-packages (from aiohttp<4.0.0,>=3.8.3->langchain-community) (0.2.1)\n",
            "Requirement already satisfied: yarl<2.0,>=1.17.0 in /usr/local/lib/python3.10/dist-packages (from aiohttp<4.0.0,>=3.8.3->langchain-community) (1.18.3)\n",
            "Collecting marshmallow<4.0.0,>=3.18.0 (from dataclasses-json<0.7,>=0.5.7->langchain-community)\n",
            "  Downloading marshmallow-3.23.2-py3-none-any.whl.metadata (7.1 kB)\n",
            "Collecting typing-inspect<1,>=0.4.0 (from dataclasses-json<0.7,>=0.5.7->langchain-community)\n",
            "  Downloading typing_inspect-0.9.0-py3-none-any.whl.metadata (1.5 kB)\n",
            "Requirement already satisfied: google-ai-generativelanguage==0.6.10 in /usr/local/lib/python3.10/dist-packages (from google-generativeai<0.9.0,>=0.8.0->langchain-google-genai) (0.6.10)\n",
            "Requirement already satisfied: google-api-core in /usr/local/lib/python3.10/dist-packages (from google-generativeai<0.9.0,>=0.8.0->langchain-google-genai) (2.19.2)\n",
            "Requirement already satisfied: google-api-python-client in /usr/local/lib/python3.10/dist-packages (from google-generativeai<0.9.0,>=0.8.0->langchain-google-genai) (2.155.0)\n",
            "Requirement already satisfied: google-auth>=2.15.0 in /usr/local/lib/python3.10/dist-packages (from google-generativeai<0.9.0,>=0.8.0->langchain-google-genai) (2.27.0)\n",
            "Requirement already satisfied: protobuf in /usr/local/lib/python3.10/dist-packages (from google-generativeai<0.9.0,>=0.8.0->langchain-google-genai) (4.25.5)\n",
            "Requirement already satisfied: tqdm in /usr/local/lib/python3.10/dist-packages (from google-generativeai<0.9.0,>=0.8.0->langchain-google-genai) (4.67.1)\n",
            "Requirement already satisfied: typing-extensions in /usr/local/lib/python3.10/dist-packages (from google-generativeai<0.9.0,>=0.8.0->langchain-google-genai) (4.12.2)\n",
            "Requirement already satisfied: proto-plus<2.0.0dev,>=1.22.3 in /usr/local/lib/python3.10/dist-packages (from google-ai-generativelanguage==0.6.10->google-generativeai<0.9.0,>=0.8.0->langchain-google-genai) (1.25.0)\n",
            "Requirement already satisfied: langchain-text-splitters<0.4.0,>=0.3.3 in /usr/local/lib/python3.10/dist-packages (from langchain<0.4.0,>=0.3.13->langchain-community) (0.3.3)\n",
            "Requirement already satisfied: jsonpatch<2.0,>=1.33 in /usr/local/lib/python3.10/dist-packages (from langchain-core<0.4.0,>=0.3.27->langchain-community) (1.33)\n",
            "Requirement already satisfied: packaging<25,>=23.2 in /usr/local/lib/python3.10/dist-packages (from langchain-core<0.4.0,>=0.3.27->langchain-community) (24.2)\n",
            "Requirement already satisfied: httpx<1,>=0.23.0 in /usr/local/lib/python3.10/dist-packages (from langsmith<0.3,>=0.1.125->langchain-community) (0.28.1)\n",
            "Requirement already satisfied: orjson<4.0.0,>=3.9.14 in /usr/local/lib/python3.10/dist-packages (from langsmith<0.3,>=0.1.125->langchain-community) (3.10.12)\n",
            "Requirement already satisfied: requests-toolbelt<2.0.0,>=1.0.0 in /usr/local/lib/python3.10/dist-packages (from langsmith<0.3,>=0.1.125->langchain-community) (1.0.0)\n",
            "Requirement already satisfied: annotated-types>=0.6.0 in /usr/local/lib/python3.10/dist-packages (from pydantic<3,>=2->langchain-google-genai) (0.7.0)\n",
            "Requirement already satisfied: pydantic-core==2.27.1 in /usr/local/lib/python3.10/dist-packages (from pydantic<3,>=2->langchain-google-genai) (2.27.1)\n",
            "Collecting python-dotenv>=0.21.0 (from pydantic-settings<3.0.0,>=2.4.0->langchain-community)\n",
            "  Downloading python_dotenv-1.0.1-py3-none-any.whl.metadata (23 kB)\n",
            "Requirement already satisfied: charset-normalizer<4,>=2 in /usr/local/lib/python3.10/dist-packages (from requests<3,>=2->langchain-community) (3.4.0)\n",
            "Requirement already satisfied: idna<4,>=2.5 in /usr/local/lib/python3.10/dist-packages (from requests<3,>=2->langchain-community) (3.10)\n",
            "Requirement already satisfied: urllib3<3,>=1.21.1 in /usr/local/lib/python3.10/dist-packages (from requests<3,>=2->langchain-community) (2.2.3)\n",
            "Requirement already satisfied: certifi>=2017.4.17 in /usr/local/lib/python3.10/dist-packages (from requests<3,>=2->langchain-community) (2024.12.14)\n",
            "Requirement already satisfied: greenlet!=0.4.17 in /usr/local/lib/python3.10/dist-packages (from SQLAlchemy<3,>=1.4->langchain-community) (3.1.1)\n",
            "Requirement already satisfied: googleapis-common-protos<2.0.dev0,>=1.56.2 in /usr/local/lib/python3.10/dist-packages (from google-api-core->google-generativeai<0.9.0,>=0.8.0->langchain-google-genai) (1.66.0)\n",
            "Requirement already satisfied: cachetools<6.0,>=2.0.0 in /usr/local/lib/python3.10/dist-packages (from google-auth>=2.15.0->google-generativeai<0.9.0,>=0.8.0->langchain-google-genai) (5.5.0)\n",
            "Requirement already satisfied: pyasn1-modules>=0.2.1 in /usr/local/lib/python3.10/dist-packages (from google-auth>=2.15.0->google-generativeai<0.9.0,>=0.8.0->langchain-google-genai) (0.4.1)\n",
            "Requirement already satisfied: rsa<5,>=3.1.4 in /usr/local/lib/python3.10/dist-packages (from google-auth>=2.15.0->google-generativeai<0.9.0,>=0.8.0->langchain-google-genai) (4.9)\n",
            "Requirement already satisfied: anyio in /usr/local/lib/python3.10/dist-packages (from httpx<1,>=0.23.0->langsmith<0.3,>=0.1.125->langchain-community) (3.7.1)\n",
            "Requirement already satisfied: httpcore==1.* in /usr/local/lib/python3.10/dist-packages (from httpx<1,>=0.23.0->langsmith<0.3,>=0.1.125->langchain-community) (1.0.7)\n",
            "Requirement already satisfied: h11<0.15,>=0.13 in /usr/local/lib/python3.10/dist-packages (from httpcore==1.*->httpx<1,>=0.23.0->langsmith<0.3,>=0.1.125->langchain-community) (0.14.0)\n",
            "Requirement already satisfied: jsonpointer>=1.9 in /usr/local/lib/python3.10/dist-packages (from jsonpatch<2.0,>=1.33->langchain-core<0.4.0,>=0.3.27->langchain-community) (3.0.0)\n",
            "Collecting mypy-extensions>=0.3.0 (from typing-inspect<1,>=0.4.0->dataclasses-json<0.7,>=0.5.7->langchain-community)\n",
            "  Downloading mypy_extensions-1.0.0-py3-none-any.whl.metadata (1.1 kB)\n",
            "Requirement already satisfied: httplib2<1.dev0,>=0.19.0 in /usr/local/lib/python3.10/dist-packages (from google-api-python-client->google-generativeai<0.9.0,>=0.8.0->langchain-google-genai) (0.22.0)\n",
            "Requirement already satisfied: google-auth-httplib2<1.0.0,>=0.2.0 in /usr/local/lib/python3.10/dist-packages (from google-api-python-client->google-generativeai<0.9.0,>=0.8.0->langchain-google-genai) (0.2.0)\n",
            "Requirement already satisfied: uritemplate<5,>=3.0.1 in /usr/local/lib/python3.10/dist-packages (from google-api-python-client->google-generativeai<0.9.0,>=0.8.0->langchain-google-genai) (4.1.1)\n",
            "Requirement already satisfied: grpcio<2.0dev,>=1.33.2 in /usr/local/lib/python3.10/dist-packages (from google-api-core[grpc]!=2.0.*,!=2.1.*,!=2.10.*,!=2.2.*,!=2.3.*,!=2.4.*,!=2.5.*,!=2.6.*,!=2.7.*,!=2.8.*,!=2.9.*,<3.0.0dev,>=1.34.1->google-ai-generativelanguage==0.6.10->google-generativeai<0.9.0,>=0.8.0->langchain-google-genai) (1.68.1)\n",
            "Requirement already satisfied: grpcio-status<2.0.dev0,>=1.33.2 in /usr/local/lib/python3.10/dist-packages (from google-api-core[grpc]!=2.0.*,!=2.1.*,!=2.10.*,!=2.2.*,!=2.3.*,!=2.4.*,!=2.5.*,!=2.6.*,!=2.7.*,!=2.8.*,!=2.9.*,<3.0.0dev,>=1.34.1->google-ai-generativelanguage==0.6.10->google-generativeai<0.9.0,>=0.8.0->langchain-google-genai) (1.62.3)\n",
            "Requirement already satisfied: pyparsing!=3.0.0,!=3.0.1,!=3.0.2,!=3.0.3,<4,>=2.4.2 in /usr/local/lib/python3.10/dist-packages (from httplib2<1.dev0,>=0.19.0->google-api-python-client->google-generativeai<0.9.0,>=0.8.0->langchain-google-genai) (3.2.0)\n",
            "Requirement already satisfied: pyasn1<0.7.0,>=0.4.6 in /usr/local/lib/python3.10/dist-packages (from pyasn1-modules>=0.2.1->google-auth>=2.15.0->google-generativeai<0.9.0,>=0.8.0->langchain-google-genai) (0.6.1)\n",
            "Requirement already satisfied: sniffio>=1.1 in /usr/local/lib/python3.10/dist-packages (from anyio->httpx<1,>=0.23.0->langsmith<0.3,>=0.1.125->langchain-community) (1.3.1)\n",
            "Requirement already satisfied: exceptiongroup in /usr/local/lib/python3.10/dist-packages (from anyio->httpx<1,>=0.23.0->langsmith<0.3,>=0.1.125->langchain-community) (1.2.2)\n",
            "Downloading langchain_community-0.3.13-py3-none-any.whl (2.5 MB)\n",
            "\u001b[2K   \u001b[90m━━━━━━━━━━━━━━━━━━━━━━━━━━━━━━━━━━━━━━━━\u001b[0m \u001b[32m2.5/2.5 MB\u001b[0m \u001b[31m28.5 MB/s\u001b[0m eta \u001b[36m0:00:00\u001b[0m\n",
            "\u001b[?25hDownloading langchain_google_genai-2.0.7-py3-none-any.whl (41 kB)\n",
            "\u001b[2K   \u001b[90m━━━━━━━━━━━━━━━━━━━━━━━━━━━━━━━━━━━━━━━━\u001b[0m \u001b[32m41.3/41.3 kB\u001b[0m \u001b[31m3.5 MB/s\u001b[0m eta \u001b[36m0:00:00\u001b[0m\n",
            "\u001b[?25hDownloading dataclasses_json-0.6.7-py3-none-any.whl (28 kB)\n",
            "Downloading filetype-1.2.0-py2.py3-none-any.whl (19 kB)\n",
            "Downloading httpx_sse-0.4.0-py3-none-any.whl (7.8 kB)\n",
            "Downloading langchain-0.3.13-py3-none-any.whl (1.0 MB)\n",
            "\u001b[2K   \u001b[90m━━━━━━━━━━━━━━━━━━━━━━━━━━━━━━━━━━━━━━━━\u001b[0m \u001b[32m1.0/1.0 MB\u001b[0m \u001b[31m55.9 MB/s\u001b[0m eta \u001b[36m0:00:00\u001b[0m\n",
            "\u001b[?25hDownloading langchain_core-0.3.28-py3-none-any.whl (411 kB)\n",
            "\u001b[2K   \u001b[90m━━━━━━━━━━━━━━━━━━━━━━━━━━━━━━━━━━━━━━━━\u001b[0m \u001b[32m411.6/411.6 kB\u001b[0m \u001b[31m28.4 MB/s\u001b[0m eta \u001b[36m0:00:00\u001b[0m\n",
            "\u001b[?25hDownloading pydantic_settings-2.7.1-py3-none-any.whl (29 kB)\n",
            "Downloading marshmallow-3.23.2-py3-none-any.whl (49 kB)\n",
            "\u001b[2K   \u001b[90m━━━━━━━━━━━━━━━━━━━━━━━━━━━━━━━━━━━━━━━━\u001b[0m \u001b[32m49.3/49.3 kB\u001b[0m \u001b[31m4.5 MB/s\u001b[0m eta \u001b[36m0:00:00\u001b[0m\n",
            "\u001b[?25hDownloading python_dotenv-1.0.1-py3-none-any.whl (19 kB)\n",
            "Downloading typing_inspect-0.9.0-py3-none-any.whl (8.8 kB)\n",
            "Downloading mypy_extensions-1.0.0-py3-none-any.whl (4.7 kB)\n",
            "Installing collected packages: filetype, python-dotenv, mypy-extensions, marshmallow, httpx-sse, typing-inspect, pydantic-settings, dataclasses-json, langchain-core, langchain, langchain-google-genai, langchain-community\n",
            "  Attempting uninstall: langchain-core\n",
            "    Found existing installation: langchain-core 0.3.25\n",
            "    Uninstalling langchain-core-0.3.25:\n",
            "      Successfully uninstalled langchain-core-0.3.25\n",
            "  Attempting uninstall: langchain\n",
            "    Found existing installation: langchain 0.3.12\n",
            "    Uninstalling langchain-0.3.12:\n",
            "      Successfully uninstalled langchain-0.3.12\n",
            "Successfully installed dataclasses-json-0.6.7 filetype-1.2.0 httpx-sse-0.4.0 langchain-0.3.13 langchain-community-0.3.13 langchain-core-0.3.28 langchain-google-genai-2.0.7 marshmallow-3.23.2 mypy-extensions-1.0.0 pydantic-settings-2.7.1 python-dotenv-1.0.1 typing-inspect-0.9.0\n"
          ]
        }
      ]
    },
    {
      "cell_type": "code",
      "source": [
        "import os\n",
        "\n",
        "os.environ['GOOGLE_API_KEY'] = \"\""
      ],
      "metadata": {
        "id": "N1rL6zt32rEw"
      },
      "execution_count": null,
      "outputs": []
    },
    {
      "cell_type": "markdown",
      "source": [
        "## Import All the Required Libraries"
      ],
      "metadata": {
        "id": "3WNrsq005Oa5"
      }
    },
    {
      "cell_type": "code",
      "source": [
        "from langchain.document_loaders import PyPDFDirectoryLoader\n",
        "from langchain.text_splitter import RecursiveCharacterTextSplitter\n",
        "from langchain_google_genai import GoogleGenerativeAIEmbeddings\n",
        "from langchain_google_genai import GoogleGenerativeAI\n",
        "from langchain.vectorstores import Pinecone\n",
        "from langchain.chains import RetrievalQA\n",
        "from langchain.prompts import PromptTemplate\n",
        "from langchain_pinecone import PineconeVectorStore\n",
        "import os"
      ],
      "metadata": {
        "id": "QadipyWC5FeA"
      },
      "execution_count": null,
      "outputs": []
    },
    {
      "cell_type": "markdown",
      "source": [
        "## Load the PDF Files"
      ],
      "metadata": {
        "id": "Jt3yEYqk5l1G"
      }
    },
    {
      "cell_type": "code",
      "source": [
        "!mkdir pdfs"
      ],
      "metadata": {
        "id": "5aPGq0qI5Fbc"
      },
      "execution_count": null,
      "outputs": []
    },
    {
      "cell_type": "code",
      "source": [
        "!gdown 1hPQlXrX8FbaYaLypxTmeVOFNitbBMlEE -O pdfs/yolov7paper.pdf\n",
        "!gdown 1vILwiv6nS2wI3chxNabMgry3qnV67TxM -O pdfs/rachelgreecv.pdf"
      ],
      "metadata": {
        "colab": {
          "base_uri": "https://localhost:8080/"
        },
        "id": "717PStbq5FZN",
        "outputId": "7a9b867c-a8f9-498d-89e9-04158e0f8634"
      },
      "execution_count": null,
      "outputs": [
        {
          "output_type": "stream",
          "name": "stdout",
          "text": [
            "Downloading...\n",
            "From: https://drive.google.com/uc?id=1hPQlXrX8FbaYaLypxTmeVOFNitbBMlEE\n",
            "To: /content/pdfs/yolov7paper.pdf\n",
            "100% 2.27M/2.27M [00:00<00:00, 166MB/s]\n",
            "Downloading...\n",
            "From: https://drive.google.com/uc?id=1vILwiv6nS2wI3chxNabMgry3qnV67TxM\n",
            "To: /content/pdfs/rachelgreecv.pdf\n",
            "100% 271k/271k [00:00<00:00, 86.3MB/s]\n"
          ]
        }
      ]
    },
    {
      "cell_type": "markdown",
      "source": [
        "## Extract the Text from the PDF's"
      ],
      "metadata": {
        "id": "l9G_3VNU523F"
      }
    },
    {
      "cell_type": "code",
      "source": [
        "loader = PyPDFDirectoryLoader(\"pdfs\")\n",
        "data = loader.load()"
      ],
      "metadata": {
        "id": "bLAl0c4o51Et"
      },
      "execution_count": null,
      "outputs": []
    },
    {
      "cell_type": "code",
      "source": [
        "data"
      ],
      "metadata": {
        "colab": {
          "base_uri": "https://localhost:8080/"
        },
        "id": "EULIR0lq58_l",
        "outputId": "edd05cd5-28da-455f-b64e-b8f9a4926104",
        "collapsed": true
      },
      "execution_count": null,
      "outputs": [
        {
          "output_type": "execute_result",
          "data": {
            "text/plain": [
              "[Document(metadata={'source': 'pdfs/yolov7paper.pdf', 'page': 0}, page_content='YOLOv7: Trainable bag-of-freebies sets new state-of-the-art for real-time object\\ndetectors\\nChien-Yao Wang1, Alexey Bochkovskiy, and Hong-Yuan Mark Liao1\\n1Institute of Information Science, Academia Sinica, Taiwan\\nkinyiu@iis.sinica.edu.tw, alexeyab84@gmail.com, and liao@iis.sinica.edu.tw\\nAbstract\\nYOLOv7 surpasses all known object detectors in both\\nspeed and accuracy in the range from 5 FPS to 160 FPS\\nand has the highest accuracy 56.8% AP among all known\\nreal-time object detectors with 30 FPS or higher on GPU\\nV100. YOLOv7-E6 object detector (56 FPS V100, 55.9%\\nAP) outperforms both transformer-based detector SWIN-\\nL Cascade-Mask R-CNN (9.2 FPS A100, 53.9% AP) by\\n509% in speed and 2% in accuracy, and convolutional-\\nbased detector ConvNeXt-XL Cascade-Mask R-CNN (8.6\\nFPS A100, 55.2% AP) by 551% in speed and 0.7% AP\\nin accuracy, as well as YOLOv7 outperforms: YOLOR,\\nYOLOX, Scaled-YOLOv4, YOLOv5, DETR, Deformable\\nDETR, DINO-5scale-R50, ViT-Adapter-B and many other\\nobject detectors in speed and accuracy. Moreover, we train\\nYOLOv7 only on MS COCO dataset from scratch without\\nusing any other datasets or pre-trained weights. Source\\ncode is released in https://github.com/WongKinYiu/yolov7.\\n1. Introduction\\nReal-time object detection is a very important topic in\\ncomputer vision, as it is often a necessary component in\\ncomputer vision systems. For example, multi-object track-\\ning [94, 93], autonomous driving [40, 18], robotics [35, 58],\\nmedical image analysis [34, 46], etc. The computing de-\\nvices that execute real-time object detection is usually some\\nmobile CPU or GPU, as well as various neural processing\\nunits (NPU) developed by major manufacturers. For exam-\\nple, the Apple neural engine (Apple), the neural compute\\nstick (Intel), Jetson AI edge devices (Nvidia), the edge TPU\\n(Google), the neural processing engine (Qualcomm), the AI\\nprocessing unit (MediaTek), and the AI SoCs (Kneron), are\\nall NPUs. Some of the above mentioned edge devices focus\\non speeding up different operations such as vanilla convolu-\\ntion, depth-wise convolution, or MLP operations. In this pa-\\nper, the real-time object detector we proposed mainly hopes\\nthat it can support both mobile GPU and GPU devices from\\nthe edge to the cloud.\\nIn recent years, the real-time object detector is still de-\\nveloped for different edge device. For example, the devel-\\nFigure 1: Comparison with other real-time object detectors, our\\nproposed methods achieve state-of-the-arts performance.\\nopment of MCUNet [49, 48] and NanoDet [54] focused on\\nproducing low-power single-chip and improving the infer-\\nence speed on edge CPU. As for methods such as YOLOX\\n[21] and YOLOR [81], they focus on improving the infer-\\nence speed of various GPUs. More recently, the develop-\\nment of real-time object detector has focused on the de-\\nsign of efﬁcient architecture. As for real-time object de-\\ntectors that can be used on CPU [54, 88, 84, 83], their de-\\nsign is mostly based on MobileNet [28, 66, 27], ShufﬂeNet\\n[92, 55], or GhostNet [25]. Another mainstream real-time\\nobject detectors are developed for GPU [81, 21, 97], they\\nmostly use ResNet [26], DarkNet [63], or DLA [87], and\\nthen use the CSPNet [80] strategy to optimize the architec-\\nture. The development direction of the proposed methods in\\nthis paper are different from that of the current mainstream\\nreal-time object detectors. In addition to architecture op-\\ntimization, our proposed methods will focus on the opti-\\nmization of the training process. Our focus will be on some\\noptimized modules and optimization methods which may\\nstrengthen the training cost for improving the accuracy of\\nobject detection, but without increasing the inference cost.\\nWe call the proposed modules and optimization methods\\ntrainable bag-of-freebies.\\n1\\narXiv:2207.02696v1  [cs.CV]  6 Jul 2022'),\n",
              " Document(metadata={'source': 'pdfs/yolov7paper.pdf', 'page': 1}, page_content='Recently, model re-parameterization [13, 12, 29] and dy-\\nnamic label assignment [20, 17, 42] have become important\\ntopics in network training and object detection. Mainly af-\\nter the above new concepts are proposed, the training of\\nobject detector evolves many new issues. In this paper, we\\nwill present some of the new issues we have discovered and\\ndevise effective methods to address them. For model re-\\nparameterization, we analyze the model re-parameterization\\nstrategies applicable to layers in different networks with the\\nconcept of gradient propagation path, and propose planned\\nre-parameterized model. In addition, when we discover that\\nwith dynamic label assignment technology, the training of\\nmodel with multiple output layers will generate new issues.\\nThat is: “How to assign dynamic targets for the outputs of\\ndifferent branches?” For this problem, we propose a new\\nlabel assignment method called coarse-to-ﬁne lead guided\\nlabel assignment.\\nThe contributions of this paper are summarized as fol-\\nlows: (1) we design several trainable bag-of-freebies meth-\\nods, so that real-time object detection can greatly improve\\nthe detection accuracy without increasing the inference\\ncost; (2) for the evolution of object detection methods, we\\nfound two new issues, namely how re-parameterized mod-\\nule replaces original module, and how dynamic label as-\\nsignment strategy deals with assignment to different output\\nlayers. In addition, we also propose methods to address the\\ndifﬁculties arising from these issues; (3) we propose “ex-\\ntend” and “compound scaling” methods for the real-time\\nobject detector that can effectively utilize parameters and\\ncomputation; and (4) the method we proposed can effec-\\ntively reduce about 40% parameters and 50% computation\\nof state-of-the-art real-time object detector, and has faster\\ninference speed and higher detection accuracy.\\n2. Related work\\n2.1. Real-time object detectors\\nCurrently state-of-the-art real-time object detectors are\\nmainly based on YOLO [61, 62, 63] and FCOS [76, 77],\\nwhich are [3, 79, 81, 21, 54, 85, 23]. Being able to become\\na state-of-the-art real-time object detector usually requires\\nthe following characteristics: (1) a faster and stronger net-\\nwork architecture; (2) a more effective feature integration\\nmethod [22, 97, 37, 74, 59, 30, 9, 45]; (3) a more accurate\\ndetection method [76, 77, 69]; (4) a more robust loss func-\\ntion [96, 64, 6, 56, 95, 57]; (5) a more efﬁcient label assign-\\nment method [99, 20, 17, 82, 42]; and (6) a more efﬁcient\\ntraining method. In this paper, we do not intend to explore\\nself-supervised learning or knowledge distillation methods\\nthat require additional data or large model. Instead, we will\\ndesign new trainable bag-of-freebies method for the issues\\nderived from the state-of-the-art methods associated with\\n(4), (5), and (6) mentioned above.\\n2.2. Model re-parameterization\\nModel re-parametrization techniques [71, 31, 75, 19, 33,\\n11, 4, 24, 13, 12, 10, 29, 14, 78] merge multiple compu-\\ntational modules into one at inference stage. The model\\nre-parameterization technique can be regarded as an en-\\nsemble technique, and we can divide it into two cate-\\ngories, i.e., module-level ensemble and model-level ensem-\\nble. There are two common practices for model-level re-\\nparameterization to obtain the ﬁnal inference model. One\\nis to train multiple identical models with different train-\\ning data, and then average the weights of multiple trained\\nmodels. The other is to perform a weighted average of the\\nweights of models at different iteration number. Module-\\nlevel re-parameterization is a more popular research issue\\nrecently. This type of method splits a module into multi-\\nple identical or different module branches during training\\nand integrates multiple branched modules into a completely\\nequivalent module during inference. However, not all pro-\\nposed re-parameterized module can be perfectly applied to\\ndifferent architectures. With this in mind, we have devel-\\noped new re-parameterization module and designed related\\napplication strategies for various architectures.\\n2.3. Model scaling\\nModel scaling [72, 60, 74, 73, 15, 16, 2, 51] is a way\\nto scale up or down an already designed model and make\\nit ﬁt in different computing devices. The model scaling\\nmethod usually uses different scaling factors, such as reso-\\nlution (size of input image), depth (number of layer), width\\n(number of channel), and stage (number of feature pyra-\\nmid), so as to achieve a good trade-off for the amount of\\nnetwork parameters, computation, inference speed, and ac-\\ncuracy. Network architecture search (NAS) is one of the\\ncommonly used model scaling methods. NAS can automat-\\nically search for suitable scaling factors from search space\\nwithout deﬁning too complicated rules. The disadvantage\\nof NAS is that it requires very expensive computation to\\ncomplete the search for model scaling factors. In [15], the\\nresearcher analyzes the relationship between scaling factors\\nand the amount of parameters and operations, trying to di-\\nrectly estimate some rules, and thereby obtain the scaling\\nfactors required by model scaling. Checking the literature,\\nwe found that almost all model scaling methods analyze in-\\ndividual scaling factor independently, and even the methods\\nin the compound scaling category also optimized scaling\\nfactor independently. The reason for this is because most\\npopular NAS architectures deal with scaling factors that are\\nnot very correlated. We observed that all concatenation-\\nbased models, such as DenseNet [32] or V oVNet [39], will\\nchange the input width of some layers when the depth of\\nsuch models is scaled. Since the proposed architecture is\\nconcatenation-based, we have to design a new compound\\nscaling method for this model.\\n2'),\n",
              " Document(metadata={'source': 'pdfs/yolov7paper.pdf', 'page': 2}, page_content='Figure 2: Extended efﬁcient layer aggregation networks. The proposed extended ELAN (E-ELAN) does not change the gradient transmis-\\nsion path of the original architecture at all, but use group convolution to increase the cardinality of the added features, and combine the\\nfeatures of different groups in a shufﬂe and merge cardinality manner. This way of operation can enhance the features learned by different\\nfeature maps and improve the use of parameters and calculations.\\n3. Architecture\\n3.1. Extended efﬁcient layer aggregation networks\\nIn most of the literature on designing the efﬁcient ar-\\nchitectures, the main considerations are no more than the\\nnumber of parameters, the amount of computation, and the\\ncomputational density. Starting from the characteristics of\\nmemory access cost, Ma et al. [55] also analyzed the in-\\nﬂuence of the input/output channel ratio, the number of\\nbranches of the architecture, and the element-wise opera-\\ntion on the network inference speed. Doll´ar et al. [15] addi-\\ntionally considered activation when performing model scal-\\ning, that is, to put more consideration on the number of el-\\nements in the output tensors of convolutional layers. The\\ndesign of CSPV oVNet [79] in Figure 2 (b) is a variation of\\nV oVNet [39]. In addition to considering the aforementioned\\nbasic designing concerns, the architecture of CSPV oVNet\\n[79] also analyzes the gradient path, in order to enable the\\nweights of different layers to learn more diverse features.\\nThe gradient analysis approach described above makes in-\\nferences faster and more accurate. ELAN [1] in Figure 2 (c)\\nconsiders the following design strategy – “How to design an\\nefﬁcient network?.” They came out with a conclusion: By\\ncontrolling the shortest longest gradient path, a deeper net-\\nwork can learn and converge effectively. In this paper, we\\npropose Extended-ELAN (E-ELAN) based on ELAN and\\nits main architecture is shown in Figure 2 (d).\\nRegardless of the gradient path length and the stacking\\nnumber of computational blocks in large-scale ELAN, it has\\nreached a stable state. If more computational blocks are\\nstacked unlimitedly, this stable state may be destroyed, and\\nthe parameter utilization rate will decrease. The proposed\\nE-ELAN uses expand, shufﬂe, merge cardinality to achieve\\nthe ability to continuously enhance the learning ability of\\nthe network without destroying the original gradient path.\\nIn terms of architecture, E-ELAN only changes the archi-\\ntecture in computational block, while the architecture of\\ntransition layer is completely unchanged. Our strategy is\\nto use group convolution to expand the channel and car-\\ndinality of computational blocks. We will apply the same\\ngroup parameter and channel multiplier to all the compu-\\ntational blocks of a computational layer. Then, the feature\\nmap calculated by each computational block will be shuf-\\nﬂed into g groups according to the set group parameter g,\\nand then concatenate them together. At this time, the num-\\nber of channels in each group of feature map will be the\\nsame as the number of channels in the original architec-\\nture. Finally, we add g groups of feature maps to perform\\nmerge cardinality. In addition to maintaining the original\\nELAN design architecture, E-ELAN can also guide differ-\\nent groups of computational blocks to learn more diverse\\nfeatures.\\n3.2. Model scaling for concatenation-based models\\nThe main purpose of model scaling is to adjust some at-\\ntributes of the model and generate models of different scales\\nto meet the needs of different inference speeds. For ex-\\nample the scaling model of EfﬁcientNet [72] considers the\\nwidth, depth, and resolution. As for the scaled-YOLOv4\\n[79], its scaling model is to adjust the number of stages. In\\n[15], Doll´ar et al. analyzed the inﬂuence of vanilla convolu-\\ntion and group convolution on the amount of parameter and\\ncomputation when performing width and depth scaling, and\\nused this to design the corresponding model scaling method.\\n3'),\n",
              " Document(metadata={'source': 'pdfs/yolov7paper.pdf', 'page': 3}, page_content='Figure 3: Model scaling for concatenation-based models. From (a) to (b), we observe that when depth scaling is performed on\\nconcatenation-based models, the output width of a computational block also increases. This phenomenon will cause the input width\\nof the subsequent transmission layer to increase. Therefore, we propose (c), that is, when performing model scaling on concatenation-\\nbased models, only the depth in a computational block needs to be scaled, and the remaining of transmission layer is performed with\\ncorresponding width scaling.\\nThe above methods are mainly used in architectures such as\\nPlainNet or ResNet. When these architectures are in execut-\\ning scaling up or scaling down, the in-degree and out-degree\\nof each layer will not change, so we can independently an-\\nalyze the impact of each scaling factor on the amount of\\nparameters and computation. However, if these methods\\nare applied to the concatenation-based architecture, we will\\nﬁnd that when scaling up or scaling down is performed on\\ndepth, the in-degree of a translation layer which is immedi-\\nately after a concatenation-based computational block will\\ndecrease or increase, as shown in Figure 3 (a) and (b).\\nIt can be inferred from the above phenomenon that\\nwe cannot analyze different scaling factors separately for\\na concatenation-based model but must be considered to-\\ngether. Take scaling-up depth as an example, such an ac-\\ntion will cause a ratio change between the input channel and\\noutput channel of a transition layer, which may lead to a de-\\ncrease in the hardware usage of the model. Therefore, we\\nmust propose the corresponding compound model scaling\\nmethod for a concatenation-based model. When we scale\\nthe depth factor of a computational block, we must also cal-\\nculate the change of the output channel of that block. Then,\\nwe will perform width factor scaling with the same amount\\nof change on the transition layers, and the result is shown\\nin Figure 3 (c). Our proposed compound scaling method\\ncan maintain the properties that the model had at the initial\\ndesign and maintains the optimal structure.\\n4. Trainable bag-of-freebies\\n4.1. Planned re-parameterized convolution\\nAlthough RepConv [13] has achieved excellent perfor-\\nmance on the VGG [68], when we directly apply it to\\nResNet [26] and DenseNet [32] and other architectures,\\nits accuracy will be signiﬁcantly reduced. We use gradi-\\nent ﬂow propagation paths to analyze how re-parameterized\\nconvolution should be combined with different network.\\nWe also designed planned re-parameterized convolution ac-\\ncordingly.\\nFigure 4: Planned re-parameterized model. In the proposed\\nplanned re-parameterized model, we found that a layer with resid-\\nual or concatenation connections, its RepConv should not have\\nidentity connection. Under these circumstances, it can be replaced\\nby RepConvN that contains no identity connections.\\nRepConv actually combines 3 × 3 convolution, 1 × 1\\nconvolution, and identity connection in one convolutional\\nlayer. After analyzing the combination and correspond-\\ning performance of RepConv and different architectures,\\nwe ﬁnd that the identity connection in RepConv destroys\\nthe residual in ResNet and the concatenation in DenseNet,\\nwhich provides more diversity of gradients for different fea-\\nture maps. For the above reasons, we use RepConv with-\\nout identity connection (RepConvN) to design the architec-\\nture of planned re-parameterized convolution. In our think-\\ning, when a convolutional layer with residual or concate-\\nnation is replaced by re-parameterized convolution, there\\nshould be no identity connection. Figure 4 shows an exam-\\nple of our designed “planned re-parameterized convolution”\\nused in PlainNet and ResNet. As for the complete planned\\nre-parameterized convolution experiment in residual-based\\nmodel and concatenation-based model, it will be presented\\nin the ablation study session.\\n4'),\n",
              " Document(metadata={'source': 'pdfs/yolov7paper.pdf', 'page': 4}, page_content='Figure 5: Coarse for auxiliary and ﬁne for lead head label assigner. Compare with normal model (a), the schema in (b) has auxiliary head.\\nDifferent from the usual independent label assigner (c), we propose (d) lead head guided label assigner and (e) coarse-to-ﬁne lead head\\nguided label assigner. The proposed label assigner is optimized by lead head prediction and the ground truth to get the labels of training\\nlead head and auxiliary head at the same time. The detailed coarse-to-ﬁne implementation method and constraint design details will be\\nelaborated in Apendix.\\n4.2. Coarse for auxiliary and ﬁne for lead loss\\nDeep supervision [38] is a technique that is often used\\nin training deep networks. Its main concept is to add\\nextra auxiliary head in the middle layers of the network,\\nand the shallow network weights with assistant loss as the\\nguide. Even for architectures such as ResNet [26] and\\nDenseNet [32] which usually converge well, deep supervi-\\nsion [70, 98, 67, 47, 82, 65, 86, 50] can still signiﬁcantly\\nimprove the performance of the model on many tasks. Fig-\\nure 5 (a) and (b) show, respectively, the object detector ar-\\nchitecture “without” and “with” deep supervision. In this\\npaper, we call the head responsible for the ﬁnal output as\\nthe lead head, and the head used to assist training is called\\nauxiliary head.\\nNext we want to discuss the issue of label assignment. In\\nthe past, in the training of deep network, label assignment\\nusually refers directly to the ground truth and generate hard\\nlabel according to the given rules. However, in recent years,\\nif we take object detection as an example, researchers often\\nuse the quality and distribution of prediction output by the\\nnetwork, and then consider together with the ground truth to\\nuse some calculation and optimization methods to generate\\na reliable soft label [61, 8, 36, 99, 91, 44, 43, 90, 20, 17, 42].\\nFor example, YOLO [61] use IoU of prediction of bounding\\nbox regression and ground truth as the soft label of object-\\nness. In this paper, we call the mechanism that considers\\nthe network prediction results together with the ground truth\\nand then assigns soft labels as “label assigner.”\\nDeep supervision needs to be trained on the target ob-\\njectives regardless of the circumstances of auxiliary head or\\nlead head. During the development of soft label assigner re-\\nlated techniques, we accidentally discovered a new deriva-\\ntive issue, i.e., “How to assign soft label to auxiliary head\\nand lead head ?” To the best of our knowledge, the relevant\\nliterature has not explored this issue so far. The results of\\nthe most popular method at present is as shown in Figure 5\\n(c), which is to separate auxiliary head and lead head, and\\nthen use their own prediction results and the ground truth\\nto execute label assignment. The method proposed in this\\npaper is a new label assignment method that guides both\\nauxiliary head and lead head by the lead head prediction.\\nIn other words, we use lead head prediction as guidance to\\ngenerate coarse-to-ﬁne hierarchical labels, which are used\\nfor auxiliary head and lead head learning, respectively. The\\ntwo proposed deep supervision label assignment strategies\\nare shown in Figure 5 (d) and (e), respectively.\\nLead head guided label assigner is mainly calculated\\nbased on the prediction result of the lead head and the\\nground truth, and generate soft label through the optimiza-\\ntion process. This set of soft labels will be used as the tar-\\nget training model for both auxiliary head and lead head.\\nThe reason to do this is because lead head has a relatively\\nstrong learning capability, so the soft label generated from it\\nshould be more representative of the distribution and corre-\\nlation between the source data and the target. Furthermore,\\nwe can view such learning as a kind of generalized residual\\nlearning. By letting the shallower auxiliary head directly\\nlearn the information that lead head has learned, lead head\\nwill be more able to focus on learning residual information\\nthat has not yet been learned.\\nCoarse-to-ﬁne lead head guided label assigner also\\nused the predicted result of the lead head and the ground\\ntruth to generate soft label. However, in the process we gen-\\nerate two different sets of soft label, i.e., coarse label and\\nﬁne label, where ﬁne label is the same as the soft label gen-\\nerated by lead head guided label assigner, and coarse label\\nis generated by allowing more grids to be treated as posi-\\ntive target by relaxing the constraints of the positive sample\\nassignment process. The reason for this is that the learning\\nability of an auxiliary head is not as strong as that of a lead\\nhead, and in order to avoid losing the information that needs\\nto be learned, we will focus on optimizing the recall of aux-\\niliary head in the object detection task. As for the output\\nof lead head, we can ﬁlter the high precision results from\\nthe high recall results as the ﬁnal output. However, we must\\nnote that if the additional weight of coarse label is close to\\n5'),\n",
              " Document(metadata={'source': 'pdfs/yolov7paper.pdf', 'page': 5}, page_content='Table 1: Comparison of baseline object detectors.\\nModel #Param. FLOPs Size AP val APval\\n50 APval\\n75 APval\\nS APval\\nM APval\\nL\\nYOLOv4 [3] 64.4M 142.8G 640 49.7% 68.2% 54.3% 32.9% 54.8% 63.7%\\nYOLOR-u5 (r6.1) [81] 46.5M 109.1G 640 50.2% 68.7% 54.6% 33.2% 55.5% 63.7%\\nYOLOv4-CSP [79] 52.9M 120.4G 640 50.3% 68.6% 54.9% 34.2% 55.6% 65.1%\\nYOLOR-CSP [81] 52.9M 120.4G 640 50.8% 69.5% 55.3% 33.7% 56.0% 65.4%\\nYOLOv7 36.9M 104.7G 640 51.2% 69.7% 55.5% 35.2% 56.0% 66.7%\\nimprovement -43% -15% - +0.4 +0.2 +0.2 +1.5 = +1.3\\nYOLOR-CSP-X [81] 96.9M 226.8G 640 52.7% 71.3% 57.4% 36.3% 57.5% 68.3%\\nYOLOv7-X 71.3M 189.9G 640 52.9% 71.1% 57.5% 36.9% 57.7% 68.6%\\nimprovement -36% -19% - +0.2 -0.2 +0.1 +0.6 +0.2 +0.3\\nYOLOv4-tiny [79] 6.1 6.9 416 24.9% 42.1% 25.7% 8.7% 28.4% 39.2%\\nYOLOv7-tiny 6.2 5.8 416 35.2% 52.8% 37.3% 15.7% 38.0% 53.4%\\nimprovement +2% -19% - +10.3 +10.7 +11.6 +7.0 +9.6 +14.2\\nYOLOv4-tiny-3l [79] 8.7 5.2 320 30.8% 47.3% 32.2% 10.9% 31.9% 51.5%\\nYOLOv7-tiny 6.2 3.5 320 30.8% 47.3% 32.2% 10.0% 31.9% 52.2%\\nimprovement -39% -49% - = = = -0.9 = +0.7\\nYOLOR-E6 [81] 115.8M 683.2G 1280 55.7% 73.2% 60.7% 40.1% 60.4% 69.2%\\nYOLOv7-E6 97.2M 515.2G 1280 55.9% 73.5% 61.1% 40.6% 60.3% 70.0%\\nimprovement -19% -33% - +0.2 +0.3 +0.4 +0.5 -0.1 +0.8\\nYOLOR-D6 [81] 151.7M 935.6G 1280 56.1% 73.9% 61.2% 42.4% 60.5% 69.9%\\nYOLOv7-D6 154.7M 806.8G 1280 56.3% 73.8% 61.4% 41.3% 60.6% 70.1%\\nYOLOv7-E6E 151.7M 843.2G 1280 56.8% 74.4% 62.1% 40.8% 62.1% 70.6%\\nimprovement = -11% - +0.7 +0.5 +0.9 -1.6 +1.6 +0.7\\nthat of ﬁne label, it may produce bad prior at ﬁnal predic-\\ntion. Therefore, in order to make those extra coarse positive\\ngrids have less impact, we put restrictions in the decoder,\\nso that the extra coarse positive grids cannot produce soft\\nlabel perfectly. The mechanism mentioned above allows\\nthe importance of ﬁne label and coarse label to be dynam-\\nically adjusted during the learning process, and makes the\\noptimizable upper bound of ﬁne label always higher than\\ncoarse label.\\n4.3. Other trainable bag-of-freebies\\nIn this section we will list some trainable bag-of-\\nfreebies. These freebies are some of the tricks we used\\nin training, but the original concepts were not proposed\\nby us. The training details of these freebies will be elab-\\norated in the Appendix, including (1) Batch normalization\\nin conv-bn-activation topology: This part mainly connects\\nbatch normalization layer directly to convolutional layer.\\nThe purpose of this is to integrate the mean and variance\\nof batch normalization into the bias and weight of convolu-\\ntional layer at the inference stage. (2) Implicit knowledge\\nin YOLOR [81] combined with convolution feature map in\\naddition and multiplication manner: Implicit knowledge in\\nYOLOR can be simpliﬁed to a vector by pre-computing at\\nthe inference stage. This vector can be combined with the\\nbias and weight of the previous or subsequent convolutional\\nlayer. (3) EMA model: EMA is a technique used in mean\\nteacher [75], and in our system we use EMA model purely\\nas the ﬁnal inference model.\\n5. Experiments\\n5.1. Experimental setup\\nWe use Microsoft COCO dataset to conduct experiments\\nand validate our object detection method. All our experi-\\nments did not use pre-trained models. That is, all models\\nwere trained from scratch. During the development pro-\\ncess, we used train 2017 set for training, and then used val\\n2017 set for veriﬁcation and choosing hyperparameters. Fi-\\nnally, we show the performance of object detection on the\\ntest 2017 set and compare it with the state-of-the-art object\\ndetection algorithms. Detailed training parameter settings\\nare described in Appendix.\\nWe designed basic model for edge GPU, normal GPU,\\nand cloud GPU, and they are respectively called YOLOv7-\\ntiny, YOLOv7, and YOLOv7-W6. At the same time, we\\nalso use basic model for model scaling for different ser-\\nvice requirements and get different types of models. For\\nYOLOv7, we do stack scaling on neck, and use the pro-\\nposed compound scaling method to perform scaling-up of\\nthe depth and width of the entire model, and use this to ob-\\ntain YOLOv7-X. As for YOLOv7-W6, we use the newly\\nproposed compound scaling method to obtain YOLOv7-E6\\nand YOLOv7-D6. In addition, we use the proposed E-\\nELAN for YOLOv7-E6, and thereby complete YOLOv7-\\nE6E. Since YOLOv7-tiny is an edge GPU-oriented archi-\\ntecture, it will use leaky ReLU as activation function. As\\nfor other models we use SiLU as activation function. We\\nwill describe the scaling factor of each model in detail in\\nAppendix.\\n6'),\n",
              " Document(metadata={'source': 'pdfs/yolov7paper.pdf', 'page': 6}, page_content='Table 2: Comparison of state-of-the-art real-time object detectors.\\nModel #Param. FLOPs Size FPS APtest / APval APtest\\n50 APtest\\n75 APtest\\nS APtest\\nM APtest\\nL\\nYOLOX-S [21] 9.0M 26.8G 640 102 40.5% / 40.5% - - - - -\\nYOLOX-M [21] 25.3M 73.8G 640 81 47.2% / 46.9% - - - - -\\nYOLOX-L [21] 54.2M 155.6G 640 69 50.1% / 49.7% - - - - -\\nYOLOX-X [21] 99.1M 281.9G 640 58 51.5% / 51.1% - - - - -\\nPPYOLOE-S [85] 7.9M 17.4G 640 208 43.1% / 42.7% 60.5% 46.6% 23.2% 46.4% 56.9%\\nPPYOLOE-M [85] 23.4M 49.9G 640 123 48.9% / 48.6% 66.5% 53.0% 28.6% 52.9% 63.8%\\nPPYOLOE-L [85] 52.2M 110.1G 640 78 51.4% / 50.9% 68.9% 55.6% 31.4% 55.3% 66.1%\\nPPYOLOE-X [85] 98.4M 206.6G 640 45 52.2% / 51.9% 69.9% 56.5% 33.3% 56.3% 66.4%\\nYOLOv5-N (r6.1) [23] 1.9M 4.5G 640 159 - / 28.0% - - - - -\\nYOLOv5-S (r6.1) [23] 7.2M 16.5G 640 156 - / 37.4% - - - - -\\nYOLOv5-M (r6.1) [23] 21.2M 49.0G 640 122 - / 45.4% - - - - -\\nYOLOv5-L (r6.1) [23] 46.5M 109.1G 640 99 - / 49.0% - - - - -\\nYOLOv5-X (r6.1) [23] 86.7M 205.7G 640 83 - / 50.7% - - - - -\\nYOLOR-CSP [81] 52.9M 120.4G 640 106 51.1% / 50.8% 69.6% 55.7% 31.7% 55.3% 64.7%\\nYOLOR-CSP-X [81] 96.9M 226.8G 640 87 53.0% / 52.7% 71.4% 57.9% 33.7% 57.1% 66.8%\\nYOLOv7-tiny-SiLU 6.2M 13.8G 640 286 38.7% / 38.7% 56.7% 41.7% 18.8% 42.4% 51.9%\\nYOLOv7 36.9M 104.7G 640 161 51.4% / 51.2% 69.7% 55.9% 31.8% 55.5% 65.0%\\nYOLOv7-X 71.3M 189.9G 640 114 53.1% / 52.9% 71.2% 57.8% 33.8% 57.1% 67.4%\\nYOLOv5-N6 (r6.1) [23] 3.2M 18.4G 1280 123 - / 36.0% - - - - -\\nYOLOv5-S6 (r6.1) [23] 12.6M 67.2G 1280 122 - / 44.8% - - - - -\\nYOLOv5-M6 (r6.1) [23] 35.7M 200.0G 1280 90 - / 51.3% - - - - -\\nYOLOv5-L6 (r6.1) [23] 76.8M 445.6G 1280 63 - / 53.7% - - - - -\\nYOLOv5-X6 (r6.1) [23] 140.7M 839.2G 1280 38 - / 55.0% - - - - -\\nYOLOR-P6 [81] 37.2M 325.6G 1280 76 53.9% / 53.5% 71.4% 58.9% 36.1% 57.7% 65.6%\\nYOLOR-W6 [81] 79.8G 453.2G 1280 66 55.2% / 54.8% 72.7% 60.5% 37.7% 59.1% 67.1%\\nYOLOR-E6 [81] 115.8M 683.2G 1280 45 55.8% / 55.7% 73.4% 61.1% 38.4% 59.7% 67.7%\\nYOLOR-D6 [81] 151.7M 935.6G 1280 34 56.5% / 56.1% 74.1% 61.9% 38.9% 60.4% 68.7%\\nYOLOv7-W6 70.4M 360.0G 1280 84 54.9% / 54.6% 72.6% 60.1% 37.3% 58.7% 67.1%\\nYOLOv7-E6 97.2M 515.2G 1280 56 56.0% / 55.9% 73.5% 61.2% 38.0% 59.9% 68.4%\\nYOLOv7-D6 154.7M 806.8G 1280 44 56.6% / 56.3% 74.0% 61.8% 38.8% 60.1% 69.5%\\nYOLOv7-E6E 151.7M 843.2G 1280 36 56.8% / 56.8% 74.4% 62.1% 39.3% 60.5% 69.0%\\n1 Our FLOPs is calaculated by rectangle input resolution like 640 × 640 or 1280 × 1280.\\n2 Our inference time is estimated by using letterbox resize input image to make its long side equals to 640 or 1280.\\n5.2. Baselines\\nWe choose previous version of YOLO [3, 79] and state-\\nof-the-art object detector YOLOR [81] as our baselines. Ta-\\nble 1 shows the comparison of our proposed YOLOv7 mod-\\nels and those baseline that are trained with the same settings.\\nFrom the results we see that if compared with YOLOv4,\\nYOLOv7 has 75% less parameters, 36% less computation,\\nand brings 1.5% higher AP. If compared with state-of-the-\\nart YOLOR-CSP, YOLOv7 has 43% fewer parameters, 15%\\nless computation, and 0.4% higher AP. In the performance\\nof tiny model, compared with YOLOv4-tiny-31, YOLOv7-\\ntiny reduces the number of parameters by 39% and the\\namount of computation by 49%, but maintains the same AP.\\nOn the cloud GPU model, our model can still have a higher\\nAP while reducing the number of parameters by 19% and\\nthe amount of computation by 33%.\\n5.3. Comparison with state-of-the-arts\\nWe compare the proposed method with state-of-the-art\\nobject detectors for general GPUs and Mobile GPUs, and\\nthe results are shown in Table 2. From the results in\\nTable 2 we know that the proposed method has the best\\nspeed-accuracy trade-off comprehensively. If we compare\\nYOLOv7-tiny-SiLU with YOLOv5-N (r6.1), our method\\nis 127 fps faster and 10.7% more accurate on AP. In ad-\\ndition, YOLOv7 has 51.4% AP at frame rate of 161 fps,\\nwhile PPYOLOE-L with the same AP has only 78 fps frame\\nrate. In terms of parameter usage, YOLOv7 is 41% less than\\nPPYOLOE-L. If we compare YOLOv7-X with 114 fps in-\\nference speed to YOLOv5-L (r6.1) with 99 fps inference\\nspeed, YOLOv7-X can improve AP by 3.9%. If YOLOv7-\\nX is compared with YOLOv5-X (r6.1) of similar scale, the\\ninference speed of YOLOv7-X is 31 fps faster. In addi-\\ntion, in terms of the amount of parameters and computation,\\nYOLOv7-X reduces 22% of parameters and 8% of compu-\\ntation compared to YOLOv5-X (r6.1), but improves AP by\\n2.2%.\\n7'),\n",
              " Document(metadata={'source': 'pdfs/yolov7paper.pdf', 'page': 7}, page_content='If we compare YOLOv7 with YOLOR using the input\\nresolution 1280, the inference speed of YOLOv7-W6 is 8\\nfps faster than that of YOLOR-P6, and the detection rate is\\nalso increased by 1% AP. As for the comparison between\\nYOLOv7-E6 and YOLOv5-X6 (r6.1), the former has 0.9%\\nAP gain than the latter, 45% less parameters and 63% less\\ncomputation, and the inference speed is increased by 47%.\\nYOLOv7-D6 has close inference speed to YOLOR-E6, but\\nimproves AP by 0.8%. YOLOv7-E6E has close inference\\nspeed to YOLOR-D6, but improves AP by 0.3%.\\n5.4. Ablation study\\n5.4.1 Proposed compound scaling method\\nTable 3 shows the results obtained when using different\\nmodel scaling strategies for scaling up. Among them, our\\nproposed compound scaling method is to scale up the depth\\nof computational block by 1.5 times and the width of tran-\\nsition block by 1.25 times. If our method is compared with\\nthe method that only scaled up the width, our method can\\nimprove the AP by 0.5% with less parameters and amount\\nof computation. If our method is compared with the method\\nthat only scales up the depth, our method only needs to in-\\ncrease the number of parameters by 2.9% and the amount of\\ncomputation by 1.2%, which can improve the AP by 0.2%.\\nIt can be seen from the results of Table 3 that our proposed\\ncompound scaling strategy can utilize parameters and com-\\nputation more efﬁciently.\\nTable 3: Ablation study on proposed model scaling.\\nModel #Param. FLOPs Size AP val APval\\n50 APval\\n75\\nbase (v7-X light) 47.0M 125.5G 640 51.7% 70.1% 56.0%\\nwidth only (1.25 w) 73.4M 195.5G 640 52.4% 70.9% 57.1%\\ndepth only (2.0 d) 69.3M 187.6G 640 52.7% 70.8% 57.3%\\ncompound (v7-X) 71.3M 189.9G 640 52.9% 71.1% 57.5%\\nimprovement - - - +1.2 +1.0 +1.5\\n5.4.2 Proposed planned re-parameterized model\\nIn order to verify the generality of our proposed planed\\nre-parameterized model, we use it on concatenation-based\\nmodel and residual-based model respectively for veriﬁca-\\ntion. The concatenation-based model and residual-based\\nmodel we chose for veriﬁcation are 3-stacked ELAN and\\nCSPDarknet, respectively.\\nIn the experiment of concatenation-based model, we re-\\nplace the 3 ×3 convolutional layers in different positions in\\n3-stacked ELAN with RepConv, and the detailed conﬁgura-\\ntion is shown in Figure 6. From the results shown in Table 4\\nwe see that all higher AP values are present on our proposed\\nplanned re-parameterized model.\\nIn the experiment dealing with residual-based model,\\nsince the original dark block does not have a 3 × 3 con-\\nFigure 6: Planned RepConv 3-stacked ELAN. Blue circles are the\\nposition we replace Conv by RepConv.\\nTable 4: Ablation study on planned RepConcatenation model.\\nModel AP val APval\\n50 APval\\n75 APval\\nS APval\\nM APval\\nL\\nbase (3-S ELAN) 52.26% 70.41% 56.77% 35.81% 57.00% 67.59%\\nFigure 6 (a) 52.18% 70.34% 56.90% 35.71% 56.83% 67.51%\\nFigure 6 (b) 52.30% 70.30% 56.92% 35.76% 56.95% 67.74%\\nFigure 6 (c) 52.33% 70.56% 56.91% 35.90% 57.06% 67.50%\\nFigure 6 (d) 52.17% 70.32% 56.82% 35.33% 57.06% 68.09%\\nFigure 6 (e) 52.23% 70.20% 56.81% 35.34% 56.97% 66.88%\\nvolution block that conforms to our design strategy, we ad-\\nditionally design a reversed dark block for the experiment,\\nwhose architecture is shown in Figure 7. Since the CSP-\\nDarknet with dark block and reversed dark block has exactly\\nthe same amount of parameters and operations, it is fair to\\ncompare. The experiment results illustrated in Table 5 fully\\nconﬁrm that the proposed planned re-parameterized model\\nis equally effective on residual-based model. We ﬁnd that\\nthe design of RepCSPResNet [85] also ﬁt our design pat-\\ntern.\\nFigure 7: Reversed CSPDarknet. We reverse the position of 1 × 1\\nand 3 × 3 convolutional layer in dark block to ﬁt our planned re-\\nparameterized model design strategy.\\nTable 5: Ablation study on planned RepResidual model.\\nModel AP val APval\\n50 APval\\n75 APval\\nS APval\\nM APval\\nL\\nbase (YOLOR-W6) 54.82% 72.39% 59.95% 39.68% 59.38% 68.30%\\nRepCSP 54.67% 72.50% 59.58% 40.22% 59.61% 67.87%\\nRCSP 54.36% 71.95% 59.54% 40.15% 59.02% 67.44%\\nRepRCSP 54.85% 72.51% 60.08% 40.53% 59.52% 68.06%\\nbase (YOLOR-CSP) 50.81% 69.47% 55.28% 33.74% 56.01% 65.38%\\nRepRCSP 50.91% 69.54% 55.55% 34.44% 55.74% 65.46%\\n8'),\n",
              " Document(metadata={'source': 'pdfs/yolov7paper.pdf', 'page': 8}, page_content='Figure 8: Objectness map predicted by different methods at auxiliary head and lead head.\\n5.4.3 Proposed assistant loss for auxiliary head\\nIn the assistant loss for auxiliary head experiments, we com-\\npare the general independent label assignment for lead head\\nand auxiliary head methods, and we also compare the two\\nproposed lead guided label assignment methods. We show\\nall comparison results in Table 6. From the results listed in\\nTable 6, it is clear that any model that increases assistant\\nloss can signiﬁcantly improve the overall performance. In\\naddition, our proposed lead guided label assignment strat-\\negy receives better performance than the general indepen-\\ndent label assignment strategy in AP, AP 50, and AP75. As\\nfor our proposed coarse for assistant and ﬁne for lead label\\nassignment strategy, it results in best results in all cases. In\\nFigure 8 we show the objectness map predicted by different\\nmethods at auxiliary head and lead head. From Figure 8 we\\nﬁnd that if auxiliary head learns lead guided soft label, it\\nwill indeed help lead head to extract the residual informa-\\ntion from the consistant targets.\\nTable 6: Ablation study on proposed auxiliary head.\\nModel Size AP val APval\\n50 APval\\n75\\nbase (v7-E6) 1280 55.6% 73.2% 60.7%\\nindependent 1280 55.8% 73.4% 60.9%\\nlead guided 1280 55.9% 73.5% 61.0%\\ncoarse-to-ﬁne lead guided 1280 55.9% 73.5% 61.1%\\nimprovement - +0.3 +0.3 +0.4\\nIn Table 7 we further analyze the effect of the proposed\\ncoarse-to-ﬁne lead guided label assignment method on the\\ndecoder of auxiliary head. That is, we compared the results\\nof with/without the introduction of upper bound constraint.\\nJudging from the numbers in the Table, the method of con-\\nstraining the upper bound of objectness by the distance from\\nthe center of the object can achieve better performance.\\nTable 7: Ablation study on constrained auxiliary head.\\nModel Size AP val APval\\n50 APval\\n75\\nbase (v7-E6) 1280 55.6% 73.2% 60.7%\\naux without constraint 1280 55.9% 73.5% 61.0%\\naux with constraint 1280 55.9% 73.5% 61.1%\\nimprovement - +0.3 +0.3 +0.4\\nSince the proposed YOLOv7 uses multiple pyramids to\\njointly predict object detection results, we can directly con-\\nnect auxiliary head to the pyramid in the middle layer for\\ntraining. This type of training can make up for informa-\\ntion that may be lost in the next level pyramid prediction.\\nFor the above reasons, we designed partial auxiliary head\\nin the proposed E-ELAN architecture. Our approach is to\\nconnect auxiliary head after one of the sets of feature map\\nbefore merging cardinality, and this connection can make\\nthe weight of the newly generated set of feature map not\\ndirectly updated by assistant loss. Our design allows each\\npyramid of lead head to still get information from objects\\nwith different sizes. Table 8 shows the results obtained us-\\ning two different methods, i.e., coarse-to-ﬁne lead guided\\nand partial coarse-to-ﬁne lead guided methods. Obviously,\\nthe partial coarse-to-ﬁne lead guided method has a better\\nauxiliary effect.\\nTable 8: Ablation study on partial auxiliary head.\\nModel Size AP val APval\\n50 APval\\n75\\nbase (v7-E6E) 1280 56.3% 74.0% 61.5%\\naux 1280 56.5% 74.0% 61.6%\\npartial aux 1280 56.8% 74.4% 62.1%\\nimprovement - +0.5 +0.4 +0.6\\n6. Conclusions\\nIn this paper we propose a new architecture of real-\\ntime object detector and the corresponding model scaling\\nmethod. Furthermore, we ﬁnd that the evolving process\\nof object detection methods generates new research top-\\nics. During the research process, we found the replace-\\nment problem of re-parameterized module and the alloca-\\ntion problem of dynamic label assignment. To solve the\\nproblem, we propose the trainable bag-of-freebies method\\nto enhance the accuracy of object detection. Based on the\\nabove, we have developed the YOLOv7 series of object de-\\ntection systems, which receives the state-of-the-art results.\\n7. Acknowledgements\\nThe authors wish to thank National Center for High-\\nperformance Computing (NCHC) for providing computa-\\ntional and storage resources.\\n9'),\n",
              " Document(metadata={'source': 'pdfs/yolov7paper.pdf', 'page': 9}, page_content='Table 9: More comparison (batch=1, no-TRT, without extra object detection training data)\\nModel #Param. FLOPs Size FPSV 100 APtest / APval APtest\\n50 APtest\\n75\\nYOLOv7-tiny-SiLU 6.2M 13.8G 640 286 38.7% / 38.7% 56.7% 41.7%\\nPPYOLOE-S [85] 7.9M 17.4G 640 208 43.1% / 42.7% 60.5% 46.6%\\nYOLOv7 36.9M 104.7G 640 161 51.4% / 51.2% 69.7% 55.9%\\nYOLOv5-N (r6.1) [23] 1.9M 4.5G 640 159 - / 28.0% - -\\nYOLOv5-S (r6.1) [23] 7.2M 16.5G 640 156 - / 37.4% - -\\nPPYOLOE-M [85] 23.4M 49.9G 640 123 48.9% / 48.6% 66.5% 53.0%\\nYOLOv5-N6 (r6.1) [23] 3.2M 18.4G 1280 123 - / 36.0% - -\\nYOLOv5-S6 (r6.1) [23] 12.6M 67.2G 1280 122 - / 44.8% - -\\nYOLOv5-M (r6.1) [23] 21.2M 49.0G 640 122 - / 45.4% - -\\nYOLOv7-X 71.3M 189.9G 640 114 53.1% / 52.9% 71.2% 57.8%\\nYOLOR-CSP [81] 52.9M 120.4G 640 106 51.1% / 50.8% 69.6% 55.7%\\nYOLOX-S [21] 9.0M 26.8G 640 102 40.5% / 40.5% - -\\nYOLOv5-L (r6.1) [23] 46.5M 109.1G 640 99 - / 49.0% - -\\nYOLOv5-M6 (r6.1) [23] 35.7M 200.0G 1280 90 - / 51.3% - -\\nYOLOR-CSP-X [81] 96.9M 226.8G 640 87 53.0% / 52.7% 71.4% 57.9%\\nYOLOv7-W6 70.4M 360.0G 1280 84 54.9% / 54.6% 72.6% 60.1%\\nYOLOv5-X (r6.1) [23] 86.7M 205.7G 640 83 - / 50.7% - -\\nYOLOX-M [21] 25.3M 73.8G 640 81 47.2% / 46.9% - -\\nPPYOLOE-L [85] 52.2M 110.1G 640 78 51.4% / 50.9% 68.9% 55.6%\\nYOLOR-P6 [81] 37.2M 325.6G 1280 76 53.9% / 53.5% 71.4% 58.9%\\nYOLOX-L [21] 54.2M 155.6G 640 69 50.1% / 49.7% - -\\nYOLOR-W6 [81] 79.8G 453.2G 1280 66 55.2% / 54.8% 72.7% 60.5%\\nYOLOv5-L6 (r6.1) [23] 76.8M 445.6G 1280 63 - / 53.7% - -\\nYOLOX-X [21] 99.1M 281.9G 640 58 51.5% / 51.1% - -\\nYOLOv7-E6 97.2M 515.2G 1280 56 56.0% / 55.9% 73.5% 61.2%\\nYOLOR-E6 [81] 115.8M 683.2G 1280 45 55.8% / 55.7% 73.4% 61.1%\\nPPYOLOE-X [85] 98.4M 206.6G 640 45 52.2% / 51.9% 69.9% 56.5%\\nYOLOv7-D6 154.7M 806.8G 1280 44 56.6% / 56.3% 74.0% 61.8%\\nYOLOv5-X6 (r6.1) [23] 140.7M 839.2G 1280 38 - / 55.0% - -\\nYOLOv7-E6E 151.7M 843.2G 1280 36 56.8% / 56.8% 74.4% 62.1%\\nYOLOR-D6 [81] 151.7M 935.6G 1280 34 56.5% / 56.1% 74.1% 61.9%\\nF-RCNN-R101-FPN+ [5] 60.0M 246.0G 1333 20 - / 44.0% - -\\nDeformable DETR [100] 40.0M 173.0G - 19 - / 46.2% - -\\nSwin-B (C-M-RCNN) [52] 145.0M 982.0G 1333 11.6 - / 51.9% - -\\nDETR DC5-R101 [5] 60.0M 253.0G 1333 10 - / 44.9% - -\\nEfﬁcientDet-D7x [74] 77.0M 410.0G 1536 6.5 55.1% / 54.4% 72.4% 58.4%\\nDual-Swin-T (C-M-RCNN) [47] 113.8M 836.0G 1333 6.5 - / 53.6% - -\\nViT-Adapter-B [7] 122.0M 997.0G - 4.4 - / 50.8% - -\\nDual-Swin-B (HTC) [47] 235.0M - 1600 2.5 58.7% / 58.4% - -\\nDual-Swin-L (HTC) [47] 453.0M - 1600 1.5 59.4% / 59.1% - -\\nModel #Param. FLOPs Size FPSA100 APtest / APval APtest\\n50 APtest\\n75\\nDN-Deformable-DETR [41] 48.0M 265.0G 1333 23.0 - / 48.6% - -\\nConvNeXt-B (C-M-RCNN) [53] - 964.0G 1280 11.5 - / 54.0% 73.1% 58.8%\\nSwin-B (C-M-RCNN) [52] - 982.0G 1280 10.7 - / 53.0% 71.8% 57.5%\\nDINO-5scale (R50) [89] 47.0M 860.0G 1333 10.0 - / 51.0% - -\\nConvNeXt-L (C-M-RCNN) [53] - 1354.0G 1280 10.0 - / 54.8% 73.8% 59.8%\\nSwin-L (C-M-RCNN) [52] - 1382.0G 1280 9.2 - / 53.9% 72.4% 58.8%\\nConvNeXt-XL (C-M-RCNN) [53] - 1898.0G 1280 8.6 - / 55.2% 74.2% 59.9%\\n8. More comparison\\nYOLOv7 surpasses all known object detectors in both\\nspeed and accuracy in the range from 5 FPS to 160 FPS and\\nhas the highest accuracy 56.8% AP test-dev / 56.8% AP\\nmin-val among all known real-time object detectors with 30\\nFPS or higher on GPU V100. YOLOv7-E6 object detector\\n(56 FPS V100, 55.9% AP) outperforms both transformer-\\nbased detector SWIN-L Cascade-Mask R-CNN (9.2 FPS\\nA100, 53.9% AP) by 509% in speed and 2% in accuracy,\\nand convolutional-based detector ConvNeXt-XL Cascade-\\nMask R-CNN (8.6 FPS A100, 55.2% AP) by 551% in speed\\nand 0.7% AP in accuracy, as well as YOLOv7 outperforms:\\nYOLOR, YOLOX, Scaled-YOLOv4, YOLOv5, DETR, De-\\nformable DETR, DINO-5scale-R50, ViT-Adapter-B and\\nmany other object detectors in speed and accuracy. More\\nover, we train YOLOv7 only on MS COCO dataset from\\nscratch without using any other datasets or pre-trained\\nweights.\\n10'),\n",
              " Document(metadata={'source': 'pdfs/yolov7paper.pdf', 'page': 10}, page_content='Figure 9: Comparison with other object detectors.\\nFigure 10: Comparison with other real-time object detectors.\\nTable 10: Comparison of different setting.\\nModel Presicion IoU threshold AP val\\nYOLOv7-X FP16 (default) 0.65 (default) 52.9%\\nYOLOv7-X FP32 0.65 53.0%\\nYOLOv7-X FP16 0.70 53.0%\\nYOLOv7-X FP32 0.70 53.1%\\nimprovement - - +0.2%\\n* Similar to meituan/YOLOv6 and PPYOLOE, our model could\\nget higher AP when set higher IoU threshold.\\nThe maximum accuracy of the YOLOv7-E6E (56.8%\\nAP) real-time model is +13.7% AP higher than the cur-\\nrent most accurate meituan/YOLOv6-s model (43.1% AP)\\non COCO dataset. Our YOLOv7-tiny (35.2% AP, 0.4\\nms) model is +25% faster and +0.2% AP higher than\\nmeituan/YOLOv6-n (35.0% AP, 0.5 ms) under identical\\nconditions on COCO dataset and V100 GPU with batch=32.\\nFigure 11: Comparison with other real-time object detectors.\\n11'),\n",
              " Document(metadata={'source': 'pdfs/yolov7paper.pdf', 'page': 11}, page_content='References\\n[1] anonymous. Designing network design strategies. anony-\\nmous submission, 2022. 3\\n[2] Irwan Bello, William Fedus, Xianzhi Du, Ekin Dogus\\nCubuk, Aravind Srinivas, Tsung-Yi Lin, Jonathon Shlens,\\nand Barret Zoph. Revisiting ResNets: Improved training\\nand scaling strategies.Advances in Neural Information Pro-\\ncessing Systems (NeurIPS), 34, 2021. 2\\n[3] Alexey Bochkovskiy, Chien-Yao Wang, and Hong-\\nYuan Mark Liao. YOLOv4: Optimal speed and accuracy of\\nobject detection. arXiv preprint arXiv:2004.10934 , 2020.\\n2, 6, 7\\n[4] Yue Cao, Thomas Andrew Geddes, Jean Yee Hwa Yang,\\nand Pengyi Yang. Ensemble deep learning in bioinformat-\\nics. Nature Machine Intelligence, 2(9):500–508, 2020. 2\\n[5] Nicolas Carion, Francisco Massa, Gabriel Synnaeve, Nico-\\nlas Usunier, Alexander Kirillov, and Sergey Zagoruyko.\\nEnd-to-end object detection with transformers. In Pro-\\nceedings of the European Conference on Computer Vision\\n(ECCV), pages 213–229, 2020. 10\\n[6] Kean Chen, Weiyao Lin, Jianguo Li, John See, Ji Wang, and\\nJunni Zou. AP-loss for accurate one-stage object detection.\\nIEEE Transactions on Pattern Analysis and Machine Intel-\\nligence (TPAMI), 43(11):3782–3798, 2020. 2\\n[7] Zhe Chen, Yuchen Duan, Wenhai Wang, Junjun He, Tong\\nLu, Jifeng Dai, and Yu Qiao. Vision transformer adapter for\\ndense predictions. arXiv preprint arXiv:2205.08534, 2022.\\n10\\n[8] Jiwoong Choi, Dayoung Chun, Hyun Kim, and Hyuk-Jae\\nLee. Gaussian YOLOv3: An accurate and fast object detec-\\ntor using localization uncertainty for autonomous driving.\\nIn Proceedings of the IEEE/CVF International Conference\\non Computer Vision (ICCV), pages 502–511, 2019. 5\\n[9] Xiyang Dai, Yinpeng Chen, Bin Xiao, Dongdong Chen,\\nMengchen Liu, Lu Yuan, and Lei Zhang. Dynamic head:\\nUnifying object detection heads with attentions. In Pro-\\nceedings of the IEEE/CVF Conference on Computer Vision\\nand Pattern Recognition (CVPR), pages 7373–7382, 2021.\\n2\\n[10] Xiaohan Ding, Honghao Chen, Xiangyu Zhang, Kaiqi\\nHuang, Jungong Han, and Guiguang Ding. Re-\\nparameterizing your optimizers rather than architectures.\\narXiv preprint arXiv:2205.15242, 2022. 2\\n[11] Xiaohan Ding, Yuchen Guo, Guiguang Ding, and Jungong\\nHan. ACNet: Strengthening the kernel skeletons for pow-\\nerful CNN via asymmetric convolution blocks. In Proceed-\\nings of the IEEE/CVF International Conference on Com-\\nputer Vision (ICCV), pages 1911–1920, 2019. 2\\n[12] Xiaohan Ding, Xiangyu Zhang, Jungong Han, and\\nGuiguang Ding. Diverse branch block: Building a con-\\nvolution as an inception-like unit. In Proceedings of the\\nIEEE/CVF Conference on Computer Vision and Pattern\\nRecognition (CVPR), pages 10886–10895, 2021. 2\\n[13] Xiaohan Ding, Xiangyu Zhang, Ningning Ma, Jungong\\nHan, Guiguang Ding, and Jian Sun. RepVGG: Making\\nVGG-style convnets great again. In Proceedings of the\\nIEEE/CVF Conference on Computer Vision and Pattern\\nRecognition (CVPR), pages 13733–13742, 2021. 2, 4\\n[14] Xiaohan Ding, Xiangyu Zhang, Yizhuang Zhou, Jungong\\nHan, Guiguang Ding, and Jian Sun. Scaling up your ker-\\nnels to 31x31: Revisiting large kernel design in CNNs. In\\nProceedings of the IEEE/CVF Conference on Computer Vi-\\nsion and Pattern Recognition (CVPR), 2022. 2\\n[15] Piotr Doll ´ar, Mannat Singh, and Ross Girshick. Fast and\\naccurate model scaling. In Proceedings of the IEEE/CVF\\nConference on Computer Vision and Pattern Recognition\\n(CVPR), pages 924–932, 2021. 2, 3\\n[16] Xianzhi Du, Barret Zoph, Wei-Chih Hung, and Tsung-Yi\\nLin. Simple training strategies and model scaling for object\\ndetection. arXiv preprint arXiv:2107.00057, 2021. 2\\n[17] Chengjian Feng, Yujie Zhong, Yu Gao, Matthew R Scott,\\nand Weilin Huang. TOOD: Task-aligned one-stage object\\ndetection. In Proceedings of the IEEE/CVF International\\nConference on Computer Vision (ICCV), pages 3490–3499,\\n2021. 2, 5\\n[18] Di Feng, Christian Haase-Sch ¨utz, Lars Rosenbaum, Heinz\\nHertlein, Claudius Glaeser, Fabian Timm, Werner Wies-\\nbeck, and Klaus Dietmayer. Deep multi-modal object de-\\ntection and semantic segmentation for autonomous driv-\\ning: Datasets, methods, and challenges. IEEE Transac-\\ntions on Intelligent Transportation Systems , 22(3):1341–\\n1360, 2020. 1\\n[19] Timur Garipov, Pavel Izmailov, Dmitrii Podoprikhin,\\nDmitry P Vetrov, and Andrew G Wilson. Loss sur-\\nfaces, mode connectivity, and fast ensembling of DNNs.\\nAdvances in Neural Information Processing Systems\\n(NeurIPS), 31, 2018. 2\\n[20] Zheng Ge, Songtao Liu, Zeming Li, Osamu Yoshie, and\\nJian Sun. OTA: Optimal transport assignment for object\\ndetection. In Proceedings of the IEEE/CVF Conference on\\nComputer Vision and Pattern Recognition (CVPR) , pages\\n303–312, 2021. 2, 5\\n[21] Zheng Ge, Songtao Liu, Feng Wang, Zeming Li, and Jian\\nSun. YOLOX: Exceeding YOLO series in 2021. arXiv\\npreprint arXiv:2107.08430, 2021. 1, 2, 7, 10\\n[22] Golnaz Ghiasi, Tsung-Yi Lin, and Quoc V Le. NAS-FPN:\\nLearning scalable feature pyramid architecture for object\\ndetection. In Proceedings of the IEEE/CVF Conference on\\nComputer Vision and Pattern Recognition (CVPR) , pages\\n7036–7045, 2019. 2\\n[23] Jocher Glenn. YOLOv5 release v6.1. https://github.com/\\nultralytics/yolov5/releases/tag/v6.1, 2022. 2, 7, 10\\n[24] Shuxuan Guo, Jose M Alvarez, and Mathieu Salzmann. Ex-\\npandNets: Linear over-parameterization to train compact\\nconvolutional networks. Advances in Neural Information\\nProcessing Systems (NeurIPS), 33:1298–1310, 2020. 2\\n[25] Kai Han, Yunhe Wang, Qi Tian, Jianyuan Guo, Chunjing\\nXu, and Chang Xu. GhostNet: More features from cheap\\noperations. In Proceedings of the IEEE/CVF Conference on\\nComputer Vision and Pattern Recognition (CVPR) , pages\\n1580–1589, 2020. 1\\n[26] Kaiming He, Xiangyu Zhang, Shaoqing Ren, and Jian Sun.\\nDeep residual learning for image recognition. In Proceed-\\n12'),\n",
              " Document(metadata={'source': 'pdfs/yolov7paper.pdf', 'page': 12}, page_content='ings of the IEEE/CVF Conference on Computer Vision and\\nPattern Recognition (CVPR), pages 770–778, 2016. 1, 4, 5\\n[27] Andrew Howard, Mark Sandler, Grace Chu, Liang-Chieh\\nChen, Bo Chen, Mingxing Tan, Weijun Wang, Yukun Zhu,\\nRuoming Pang, Vijay Vasudevan, et al. Searching for Mo-\\nbileNetV3. In Proceedings of the IEEE/CVF Conference on\\nComputer Vision and Pattern Recognition (CVPR) , pages\\n1314–1324, 2019. 1\\n[28] Andrew G Howard, Menglong Zhu, Bo Chen, Dmitry\\nKalenichenko, Weijun Wang, Tobias Weyand, Marco An-\\ndreetto, and Hartwig Adam. MobileNets: Efﬁcient con-\\nvolutional neural networks for mobile vision applications.\\narXiv preprint arXiv:1704.04861, 2017. 1\\n[29] Mu Hu, Junyi Feng, Jiashen Hua, Baisheng Lai, Jian-\\nqiang Huang, Xiaojin Gong, and Xiansheng Hua. On-\\nline convolutional re-parameterization. In Proceedings of\\nthe IEEE/CVF Conference on Computer Vision and Pattern\\nRecognition (CVPR), 2022. 2\\n[30] Miao Hu, Yali Li, Lu Fang, and Shengjin Wang. A 2-FPN:\\nAttention aggregation based feature pyramid network for\\ninstance segmentation. In Proceedings of the IEEE/CVF\\nConference on Computer Vision and Pattern Recognition\\n(CVPR), pages 15343–15352, 2021. 2\\n[31] Gao Huang, Yixuan Li, Geoff Pleiss, Zhuang Liu, John E\\nHopcroft, and Kilian Q Weinberger. Snapshot ensembles:\\nTrain 1, get m for free. International Conference on Learn-\\ning Representations (ICLR), 2017. 2\\n[32] Gao Huang, Zhuang Liu, Laurens Van Der Maaten, and Kil-\\nian Q Weinberger. Densely connected convolutional net-\\nworks. In Proceedings of the IEEE/CVF Conference on\\nComputer Vision and Pattern Recognition (CVPR) , pages\\n4700–4708, 2017. 2, 4, 5\\n[33] Pavel Izmailov, Dmitrii Podoprikhin, Timur Garipov,\\nDmitry Vetrov, and Andrew Gordon Wilson. Averaging\\nweights leads to wider optima and better generalization. In\\nConference on Uncertainty in Artiﬁcial Intelligence (UAI),\\n2018. 2\\n[34] Paul F Jaeger, Simon AA Kohl, Sebastian Bickel-\\nhaupt, Fabian Isensee, Tristan Anselm Kuder, Heinz-Peter\\nSchlemmer, and Klaus H Maier-Hein. Retina U-Net: Em-\\nbarrassingly simple exploitation of segmentation supervi-\\nsion for medical object detection. In Machine Learning for\\nHealth Workshop, pages 171–183, 2020. 1\\n[35] Hakan Karaoguz and Patric Jensfelt. Object detection ap-\\nproach for robot grasp detection. In IEEE International\\nConference on Robotics and Automation (ICRA) , pages\\n4953–4959, 2019. 1\\n[36] Kang Kim and Hee Seok Lee. Probabilistic anchor as-\\nsignment with iou prediction for object detection. In Pro-\\nceedings of the European conference on computer vision\\n(ECCV), pages 355–371, 2020. 5\\n[37] Alexander Kirillov, Ross Girshick, Kaiming He, and Piotr\\nDoll´ar. Panoptic feature pyramid networks. In Proceed-\\nings of the IEEE/CVF Conference on Computer Vision and\\nPattern Recognition (CVPR), pages 6399–6408, 2019. 2\\n[38] Chen-Yu Lee, Saining Xie, Patrick Gallagher, Zhengyou\\nZhang, and Zhuowen Tu. Deeply-supervised nets. In Arti-\\nﬁcial Intelligence and Statistics, pages 562–570, 2015. 5\\n[39] Youngwan Lee, Joong-won Hwang, Sangrok Lee, Yuseok\\nBae, and Jongyoul Park. An energy and GPU-computation\\nefﬁcient backbone network for real-time object detection.\\nIn Proceedings of the IEEE/CVF Conference on Com-\\nputer Vision and Pattern Recognition Workshops (CVPRW),\\npages 0–0, 2019. 2, 3\\n[40] Buyu Li, Wanli Ouyang, Lu Sheng, Xingyu Zeng, and\\nXiaogang Wang. GS3D: An efﬁcient 3d object detection\\nframework for autonomous driving. In Proceedings of the\\nIEEE/CVF Conference on Computer Vision and Pattern\\nRecognition (CVPR), pages 1019–1028, 2019. 1\\n[41] Feng Li, Hao Zhang, Shilong Liu, Jian Guo, Lionel M\\nNi, and Lei Zhang. DN-DETR: Accelerate detr training\\nby introducing query denoising. In Proceedings of the\\nIEEE/CVF Conference on Computer Vision and Pattern\\nRecognition (CVPR), pages 13619–13627, 2022. 10\\n[42] Shuai Li, Chenhang He, Ruihuang Li, and Lei Zhang. A\\ndual weighting label assignment scheme for object detec-\\ntion. In Proceedings of the IEEE/CVF Conference on Com-\\nputer Vision and Pattern Recognition (CVPR), pages 9387–\\n9396, 2022. 2, 5\\n[43] Xiang Li, Wenhai Wang, Xiaolin Hu, Jun Li, Jinhui Tang,\\nand Jian Yang. Generalized focal loss v2: Learning reliable\\nlocalization quality estimation for dense object detection. In\\nProceedings of the IEEE/CVF Conference on Computer Vi-\\nsion and Pattern Recognition (CVPR), pages 11632–11641,\\n2021. 5\\n[44] Xiang Li, Wenhai Wang, Lijun Wu, Shuo Chen, Xiaolin\\nHu, Jun Li, Jinhui Tang, and Jian Yang. Generalized focal\\nloss: Learning qualiﬁed and distributed bounding boxes for\\ndense object detection. Advances in Neural Information\\nProcessing Systems (NeurIPS), 33:21002–21012, 2020. 5\\n[45] Yanghao Li, Hanzi Mao, Ross Girshick, and Kaiming He.\\nExploring plain vision transformer backbones for object de-\\ntection. arXiv preprint arXiv:2203.16527, 2022. 2\\n[46] Zhuoling Li, Minghui Dong, Shiping Wen, Xiang Hu, Pan\\nZhou, and Zhigang Zeng. CLU-CNNs: Object detection for\\nmedical images. Neurocomputing, 350:53–59, 2019. 1\\n[47] Tingting Liang, Xiaojie Chu, Yudong Liu, Yongtao Wang,\\nZhi Tang, Wei Chu, Jingdong Chen, and Haibin Ling. CB-\\nNetV2: A composite backbone network architecture for ob-\\nject detection. arXiv preprint arXiv:2107.00420, 2021. 5,\\n10\\n[48] Ji Lin, Wei-Ming Chen, Han Cai, Chuang Gan, and Song\\nHan. Memory-efﬁcient patch-based inference for tiny deep\\nlearning. Advances in Neural Information Processing Sys-\\ntems (NeurIPS), 34:2346–2358, 2021. 1\\n[49] Ji Lin, Wei-Ming Chen, Yujun Lin, Chuang Gan, Song\\nHan, et al. MCUNet: Tiny deep learning on IoT de-\\nvices. Advances in Neural Information Processing Systems\\n(NeurIPS), 33:11711–11722, 2020. 1\\n[50] Yuxuan Liu, Lujia Wang, and Ming Liu. YOLOStereo3D:\\nA step back to 2D for efﬁcient stereo 3D detection. In\\nIEEE International Conference on Robotics and Automa-\\ntion (ICRA), pages 13018–13024, 2021. 5\\n[51] Ze Liu, Han Hu, Yutong Lin, Zhuliang Yao, Zhenda Xie,\\nYixuan Wei, Jia Ning, Yue Cao, Zheng Zhang, Li Dong,\\n13'),\n",
              " Document(metadata={'source': 'pdfs/yolov7paper.pdf', 'page': 13}, page_content='et al. Swin transformer v2: Scaling up capacity and res-\\nolution. In Proceedings of the IEEE/CVF Conference on\\nComputer Vision and Pattern Recognition (CVPR), 2022. 2\\n[52] Ze Liu, Yutong Lin, Yue Cao, Han Hu, Yixuan Wei, Zheng\\nZhang, Stephen Lin, and Baining Guo. Swin transformer:\\nHierarchical vision transformer using shifted windows. In\\nProceedings of the IEEE/CVF International Conference on\\nComputer Vision (ICCV), pages 10012–10022, 2021. 10\\n[53] Zhuang Liu, Hanzi Mao, Chao-Yuan Wu, Christoph Feicht-\\nenhofer, Trevor Darrell, and Saining Xie. A ConvNet for\\nthe 2020s. In Proceedings of the IEEE/CVF Conference on\\nComputer Vision and Pattern Recognition (CVPR) , pages\\n11976–11986, 2022. 10\\n[54] Rangi Lyu. NanoDet-Plus. https://github.com/RangiLyu/\\nnanodet/releases/tag/v1.0.0-alpha-1, 2021. 1, 2\\n[55] Ningning Ma, Xiangyu Zhang, Hai-Tao Zheng, and Jian\\nSun. ShufﬂeNet V2: Practical guidelines for efﬁcient CNN\\narchitecture design. In Proceedings of the European Con-\\nference on Computer Vision (ECCV), pages 116–131, 2018.\\n1, 3\\n[56] Kemal Oksuz, Baris Can Cam, Emre Akbas, and Sinan\\nKalkan. A ranking-based, balanced loss function unifying\\nclassiﬁcation and localisation in object detection. Advances\\nin Neural Information Processing Systems (NeurIPS) ,\\n33:15534–15545, 2020. 2\\n[57] Kemal Oksuz, Baris Can Cam, Emre Akbas, and Sinan\\nKalkan. Rank & sort loss for object detection and in-\\nstance segmentation. In Proceedings of the IEEE/CVF In-\\nternational Conference on Computer Vision (ICCV), pages\\n3009–3018, 2021. 2\\n[58] Shuvo Kumar Paul, Muhammed Tawﬁq Chowdhury,\\nMircea Nicolescu, Monica Nicolescu, and David Feil-\\nSeifer. Object detection and pose estimation from rgb and\\ndepth data for real-time, adaptive robotic grasping. In Ad-\\nvances in Computer Vision and Computational Biology ,\\npages 121–142. 2021. 1\\n[59] Siyuan Qiao, Liang-Chieh Chen, and Alan Yuille. De-\\ntectoRS: Detecting objects with recursive feature pyramid\\nand switchable atrous convolution. In Proceedings of the\\nIEEE/CVF Conference on Computer Vision and Pattern\\nRecognition (CVPR), pages 10213–10224, 2021. 2\\n[60] Ilija Radosavovic, Raj Prateek Kosaraju, Ross Girshick,\\nKaiming He, and Piotr Doll ´ar. Designing network design\\nspaces. In Proceedings of the IEEE/CVF Conference on\\nComputer Vision and Pattern Recognition (CVPR) , pages\\n10428–10436, 2020. 2\\n[61] Joseph Redmon, Santosh Divvala, Ross Girshick, and Ali\\nFarhadi. You only look once: Uniﬁed, real-time object de-\\ntection. In Proceedings of the IEEE/CVF Conference on\\nComputer Vision and Pattern Recognition (CVPR) , pages\\n779–788, 2016. 2, 5\\n[62] Joseph Redmon and Ali Farhadi. YOLO9000: better, faster,\\nstronger. In Proceedings of the IEEE/CVF Conference on\\nComputer Vision and Pattern Recognition (CVPR) , pages\\n7263–7271, 2017. 2\\n[63] Joseph Redmon and Ali Farhadi. YOLOv3: An incremental\\nimprovement. arXiv preprint arXiv:1804.02767, 2018. 1, 2\\n[64] Hamid Rezatoﬁghi, Nathan Tsoi, JunYoung Gwak, Amir\\nSadeghian, Ian Reid, and Silvio Savarese. Generalized in-\\ntersection over union: A metric and a loss for bounding\\nbox regression. In Proceedings of the IEEE/CVF Confer-\\nence on Computer Vision and Pattern Recognition (CVPR),\\npages 658–666, 2019. 2\\n[65] Byungseok Roh, JaeWoong Shin, Wuhyun Shin, and\\nSaehoon Kim. Sparse DETR: Efﬁcient end-to-end ob-\\nject detection with learnable sparsity. arXiv preprint\\narXiv:2111.14330, 2021. 5\\n[66] Mark Sandler, Andrew Howard, Menglong Zhu, Andrey\\nZhmoginov, and Liang-Chieh Chen. MobileNetV2: In-\\nverted residuals and linear bottlenecks. In Proceedings of\\nthe IEEE/CVF Conference on Computer Vision and Pattern\\nRecognition (CVPR), pages 4510–4520, 2018. 1\\n[67] Zhiqiang Shen, Zhuang Liu, Jianguo Li, Yu-Gang Jiang,\\nYurong Chen, and Xiangyang Xue. Object detection\\nfrom scratch with deep supervision. IEEE Transactions\\non Pattern Analysis and Machine Intelligence (TPAMI) ,\\n42(2):398–412, 2019. 5\\n[68] Karen Simonyan and Andrew Zisserman. Very deep convo-\\nlutional networks for large-scale image recognition. arXiv\\npreprint arXiv:1409.1556, 2014. 4\\n[69] Peize Sun, Rufeng Zhang, Yi Jiang, Tao Kong, Chenfeng\\nXu, Wei Zhan, Masayoshi Tomizuka, Lei Li, Zehuan Yuan,\\nChanghu Wang, et al. Sparse R-CNN: End-to-end ob-\\nject detection with learnable proposals. In Proceedings of\\nthe IEEE/CVF Conference on Computer Vision and Pattern\\nRecognition (CVPR), pages 14454–14463, 2021. 2\\n[70] Christian Szegedy, Wei Liu, Yangqing Jia, Pierre Sermanet,\\nScott Reed, Dragomir Anguelov, Dumitru Erhan, Vincent\\nVanhoucke, and Andrew Rabinovich. Going deeper with\\nconvolutions. In Proceedings of the IEEE/CVF Confer-\\nence on Computer Vision and Pattern Recognition (CVPR),\\npages 1–9, 2015. 5\\n[71] Christian Szegedy, Vincent Vanhoucke, Sergey Ioffe, Jon\\nShlens, and Zbigniew Wojna. Rethinking the inception\\narchitecture for computer vision. In Proceedings of the\\nIEEE/CVF Conference on Computer Vision and Pattern\\nRecognition (CVPR), pages 2818–2826, 2016. 2\\n[72] Mingxing Tan and Quoc Le. EfﬁcientNet: Rethinking\\nmodel scaling for convolutional neural networks. In Inter-\\nnational Conference on Machine Learning (ICML) , pages\\n6105–6114, 2019. 2, 3\\n[73] Mingxing Tan and Quoc Le. EfﬁcientNetv2: Smaller mod-\\nels and faster training. In International Conference on Ma-\\nchine Learning (ICML), pages 10096–10106, 2021. 2\\n[74] Mingxing Tan, Ruoming Pang, and Quoc V Le. Efﬁcient-\\nDet: Scalable and efﬁcient object detection. In Proceedings\\nof the IEEE/CVF Conference on Computer Vision and Pat-\\ntern Recognition (CVPR), pages 10781–10790, 2020. 2, 10\\n[75] Antti Tarvainen and Harri Valpola. Mean teachers are better\\nrole models: Weight-averaged consistency targets improve\\nsemi-supervised deep learning results. Advances in Neural\\nInformation Processing Systems (NeurIPS), 30, 2017. 2, 6\\n[76] Zhi Tian, Chunhua Shen, Hao Chen, and Tong He. FCOS:\\nFully convolutional one-stage object detection. InProceed-\\n14'),\n",
              " Document(metadata={'source': 'pdfs/yolov7paper.pdf', 'page': 14}, page_content='ings of the IEEE/CVF International Conference on Com-\\nputer Vision (ICCV), pages 9627–9636, 2019. 2\\n[77] Zhi Tian, Chunhua Shen, Hao Chen, and Tong He. FCOS:\\nA simple and strong anchor-free object detector. IEEE\\nTransactions on Pattern Analysis and Machine Intelligence\\n(TPAMI), 44(4):1922–1933, 2022. 2\\n[78] Pavan Kumar Anasosalu Vasu, James Gabriel, Jeff\\nZhu, Oncel Tuzel, and Anurag Ranjan. An im-\\nproved one millisecond mobile backbone. arXiv preprint\\narXiv:2206.04040, 2022. 2\\n[79] Chien-Yao Wang, Alexey Bochkovskiy, and Hong-\\nYuan Mark Liao. Scaled-YOLOv4: Scaling cross stage\\npartial network. In Proceedings of the IEEE/CVF Confer-\\nence on Computer Vision and Pattern Recognition (CVPR),\\npages 13029–13038, 2021. 2, 3, 6, 7\\n[80] Chien-Yao Wang, Hong-Yuan Mark Liao, Yueh-Hua Wu,\\nPing-Yang Chen, Jun-Wei Hsieh, and I-Hau Yeh. CSP-\\nNet: A new backbone that can enhance learning capabil-\\nity of CNN. In Proceedings of the IEEE/CVF Conference\\non Computer Vision and Pattern Recognition Workshops\\n(CVPRW), pages 390–391, 2020. 1\\n[81] Chien-Yao Wang, I-Hau Yeh, and Hong-Yuan Mark Liao.\\nYou only learn one representation: Uniﬁed network for\\nmultiple tasks. arXiv preprint arXiv:2105.04206, 2021. 1,\\n2, 6, 7, 10\\n[82] Jianfeng Wang, Lin Song, Zeming Li, Hongbin Sun, Jian\\nSun, and Nanning Zheng. End-to-end object detection\\nwith fully convolutional network. In Proceedings of the\\nIEEE/CVF Conference on Computer Vision and Pattern\\nRecognition (CVPR), pages 15849–15858, 2021. 2, 5\\n[83] Bichen Wu, Chaojian Li, Hang Zhang, Xiaoliang Dai,\\nPeizhao Zhang, Matthew Yu, Jialiang Wang, Yingyan Lin,\\nand Peter Vajda. FBNetv5: Neural architecture search for\\nmultiple tasks in one run.arXiv preprint arXiv:2111.10007,\\n2021. 1\\n[84] Yunyang Xiong, Hanxiao Liu, Suyog Gupta, Berkin Akin,\\nGabriel Bender, Yongzhe Wang, Pieter-Jan Kindermans,\\nMingxing Tan, Vikas Singh, and Bo Chen. MobileDets:\\nSearching for object detection architectures for mobile ac-\\ncelerators. In Proceedings of the IEEE/CVF Conference on\\nComputer Vision and Pattern Recognition (CVPR) , pages\\n3825–3834, 2021. 1\\n[85] Shangliang Xu, Xinxin Wang, Wenyu Lv, Qinyao\\nChang, Cheng Cui, Kaipeng Deng, Guanzhong Wang,\\nQingqing Dang, Shengyu Wei, Yuning Du, et al. PP-\\nYOLOE: An evolved version of YOLO. arXiv preprint\\narXiv:2203.16250, 2022. 2, 7, 8, 10\\n[86] Zetong Yang, Yin Zhou, Zhifeng Chen, and Jiquan Ngiam.\\n3D-MAN: 3D multi-frame attention network for object de-\\ntection. In Proceedings of the IEEE/CVF Conference on\\nComputer Vision and Pattern Recognition (CVPR) , pages\\n1863–1872, 2021. 5\\n[87] Fisher Yu, Dequan Wang, Evan Shelhamer, and Trevor\\nDarrell. Deep layer aggregation. In Proceedings of the\\nIEEE/CVF Conference on Computer Vision and Pattern\\nRecognition (CVPR), pages 2403–2412, 2018. 1\\n[88] Guanghua Yu, Qinyao Chang, Wenyu Lv, Chang Xu, Cheng\\nCui, Wei Ji, Qingqing Dang, Kaipeng Deng, Guanzhong\\nWang, Yuning Du, et al. PP-PicoDet: A better real-\\ntime object detector on mobile devices. arXiv preprint\\narXiv:2111.00902, 2021. 1\\n[89] Hao Zhang, Feng Li, Shilong Liu, Lei Zhang, Hang Su, Jun\\nZhu, Lionel M Ni, and Heung-Yeung Shum. DINO: DETR\\nwith improved denoising anchor boxes for end-to-end ob-\\nject detection. arXiv preprint arXiv:2203.03605, 2022. 10\\n[90] Haoyang Zhang, Ying Wang, Feras Dayoub, and Niko Sun-\\nderhauf. VarifocalNet: An IoU-aware dense object detector.\\nIn Proceedings of the IEEE/CVF Conference on Computer\\nVision and Pattern Recognition (CVPR), pages 8514–8523,\\n2021. 5\\n[91] Shifeng Zhang, Cheng Chi, Yongqiang Yao, Zhen Lei, and\\nStan Z Li. Bridging the gap between anchor-based and\\nanchor-free detection via adaptive training sample selec-\\ntion. In Proceedings of the IEEE/CVF Conference on Com-\\nputer Vision and Pattern Recognition (CVPR), pages 9759–\\n9768, 2020. 5\\n[92] Xiangyu Zhang, Xinyu Zhou, Mengxiao Lin, and Jian\\nSun. ShufﬂeNet: An extremely efﬁcient convolutional neu-\\nral network for mobile devices. In Proceedings of the\\nIEEE/CVF Conference on Computer Vision and Pattern\\nRecognition (CVPR), pages 6848–6856, 2018. 1\\n[93] Yifu Zhang, Peize Sun, Yi Jiang, Dongdong Yu, Zehuan\\nYuan, Ping Luo, Wenyu Liu, and Xinggang Wang. BYTE-\\nTrack: Multi-object tracking by associating every detection\\nbox. arXiv preprint arXiv:2110.06864, 2021. 1\\n[94] Yifu Zhang, Chunyu Wang, Xinggang Wang, Wenjun Zeng,\\nand Wenyu Liu. FAIRMOT: On the fairness of detec-\\ntion and re-identiﬁcation in multiple object tracking. Inter-\\nnational Journal of Computer Vision, 129(11):3069–3087,\\n2021. 1\\n[95] Zhaohui Zheng, Ping Wang, Wei Liu, Jinze Li, Rongguang\\nYe, and Dongwei Ren. Distance-IoU loss: Faster and bet-\\nter learning for bounding box regression. In Proceedings\\nof the AAAI Conference on Artiﬁcial Intelligence (AAAI) ,\\nvolume 34, pages 12993–13000, 2020. 2\\n[96] Dingfu Zhou, Jin Fang, Xibin Song, Chenye Guan, Junbo\\nYin, Yuchao Dai, and Ruigang Yang. IoU loss for 2D/3D\\nobject detection. In International Conference on 3D Vision\\n(3DV), pages 85–94, 2019. 2\\n[97] Xingyi Zhou, Dequan Wang, and Philipp Kr ¨ahenb¨uhl. Ob-\\njects as points. arXiv preprint arXiv:1904.07850, 2019. 1,\\n2\\n[98] Zongwei Zhou, Md Mahfuzur Rahman Siddiquee, Nima\\nTajbakhsh, and Jianming Liang. UNet++: A nested U-\\nNet architecture for medical image segmentation. In\\nDeep Learning in Medical Image Analysis and Multimodal\\nLearning for Clinical Decision Support, 2018. 5\\n[99] Benjin Zhu, Jianfeng Wang, Zhengkai Jiang, Fuhang Zong,\\nSongtao Liu, Zeming Li, and Jian Sun. AutoAssign: Differ-\\nentiable label assignment for dense object detection. arXiv\\npreprint arXiv:2007.03496, 2020. 2, 5\\n[100] Xizhou Zhu, Weijie Su, Lewei Lu, Bin Li, Xiaogang Wang,\\nand Jifeng Dai. Deformable DETR: Deformable trans-\\nformers for end-to-end object detection. In Proceedings of\\nthe International Conference on Learning Representations\\n(ICLR), 2021. 10\\n15'),\n",
              " Document(metadata={'source': 'pdfs/rachelgreecv.pdf', 'page': 0}, page_content='3 grad.illinois.edu/CareerDevelopment \\nRachel Green  \\n2 1 0  W .  G R E E N  S T . ,  C H A M P A I G N ,  I L  \\n( 2 1 7 )  5 5 5 -1 2 3 4  •  R S T U D E N T @ I L L I N O I S . E D U  \\nEDUCATION \\nPhD in English May 20xx \\nUniversity of Illinois at Urbana-Champaign \\nDissertation title: “Down on the Farm: World War One and the Emergence of Literary  \\nModernism in the American South” \\nCommittee: Margaret Black, Naomi Blue, John Jay, Robert Roberts (Chair) \\nMA in English  20xx \\nUniversity of Illinois at Urbana-Champaign \\nBA in English and Communications, summa cum laude 20xx \\nButler University, Indianapolis, IN  \\nTEACHING & ADVISING  \\nComposition Instructor 20xx-present \\nResearch Writing Program, University of Illinois \\n\\uf0b7 Facilitator for seven sections of English composition.\\n\\uf0b7 Planned and taught a writing-intensive course based upon current events.\\n\\uf0b7 Used instructional technology to enhance pedagogical technique.\\n\\uf0b7 Taught in part with an innovative, interdisciplinary team-teaching program design.\\nLiterature Instructor 20xx-present \\nDepartment of English, University of Illinois \\n\\uf0b7Instructor of record for two sections of literature, including Major American Authors and\\nIntroduction to Poetry per semester.\\n\\uf0b7 Integrated multimedia and humanities approaches to teaching literature using film and instructional\\ntechnology.\\nCoordinating Group Leader 20xx-20xx \\nResearch Writing Program, University of Illinois \\n\\uf0b7 Planned and led required training session for teaching assistants and new composition teachers.\\n\\uf0b7 Helped to mentor new hires to the English Department staff to ensure their engagement and\\nprofessional development.\\n\\uf0b7 Provided job shadowing and training opportunities to assist new hires in adjusting to the pace of\\nwork and the tone and style of the University.\\nDiscussion Leader 20xx \\nCarolina Summer Reading Program, University of Illinois \\n\\uf0b7 Led group discussion for first-year students on academic topics.\\nTeaching Assistant 20xx-20xx \\nDepartment of English, University of Illinois at Urbana-Champaign \\n\\uf0b7 Taught a section on film criticism, including film history, theory and technical vocabulary.\\n\\uf0b7 Planned lessons and assignments, led discussion sections, graded papers and exams.\\n\\uf0b7 Organized and led group discussions on social and academic issues.\\nCV SAMPLE '),\n",
              " Document(metadata={'source': 'pdfs/rachelgreecv.pdf', 'page': 1}, page_content='4 grad.illinois.edu/CareerDevelopment \\nRESEARCH EXPERIENCE  \\nDoctoral Researcher 20xx-20xx \\nDepartment of English, University of Illinois at Urbana-Champaign \\n\\uf0b7 Conducted primary source research at numerous archives, examining publication history through\\nmultiple sources.\\n\\uf0b7 Examined the literature of William Faulkner, Thomas Wolfe, and Tennessee Williams, exploring\\ntheir publication records, construction of literary identity, and relationship with modernism.\\nResearch Assistant 20xx \\nDepartment of English, University of Illinois at Urbana-Champaign \\n\\uf0b7 Assistant to Professor Robert Warren, conducting primary and secondary source research.\\n\\uf0b7 Organized for the “New Directions in the Study of Southern Literature: An Interdisciplinary\\nConference.”\\nPUBLICATIONS  \\nAssociate Editor of North Carolina Slave Narratives. John Jacob Franz, general editor. Forthcoming \\nfrom University of Illinois Press, 20xx. \\nJohnson, JM, Lolie, T., and Green, R. “Lost on the Farm: Popular Beliefs” Somebody Journal, Special \\nIssue, Reflections on the Americas. Vol. 6. Accepted and forthcoming. \\nGreen, R. “Fugitives/Agrarians” in A Companion to Twentieth-Century American Poetry. Rutgers \\nPress., 20xx. \\nDavis, D.A. and Green, R. “Will N. Harben,” “Etheridge Knight,” and “James Wilcox” in Southern \\nWriters: A Biographical Dictionary. Louisiana State University Press, 20xx. \\nCONFERENCE PRESENTATIONS  \\n“Artistic Colloquialism,” Illinois Graduate College Seminar, speaker and organizer. Urbana, IL, 20xx.  \\n“Transitional Bible Belt,” US Divergence Symposium, Duke University, NC, February 20xx.  \\n“The Ministry of Rev. Thomas H. Jones,” South Atlantic Modern Language Association. Atlanta, GA, \\nMay 20xx. \\n“Shackles and Stripes: The Cinematic Representation of the Southern Chain Gain.” American Literature \\nAssociation. Cambridge, Massachusetts, November 20xx. \\n“Body Place of Sprits in the South,” Queen Mary College, University of London, April 6 -8, 20xx. \\nHONORS AND AWARDS \\nJacob K. Javitz Fellowship, U.S. Department of Education 20xx-present \\nGraduate College Dissertation Completion Award, University of Illinois 20xx \\nCampus Teaching Award based on student evaluations, University of Illinois 20xx-20xx \\nDoctoral Fellowship, Illinois Program for Research in the Humanities,  20xx-20xx \\nUniversity of Illinois \\nSummer Research Grant, Center for Summer Studies, City, ST  20xx \\nGraduate College Conference Travel Grant, University of Illinois 20xx & 20xx \\nMost Outstanding Butler Woman, Butler University, Indianapolis, IN 20xx \\nAcademic Scholarship, Butler University, Indianapolis, IN 20xx-20xx \\nRachel Green, page 2 of 3 '),\n",
              " Document(metadata={'source': 'pdfs/rachelgreecv.pdf', 'page': 2}, page_content='5 grad.illinois.edu/CareerDevelopment \\nPROFESSIONAL SERVICE \\nManaging Editor 20xx-present \\nSouthern Literary Journal \\n\\uf0b7 Process manuscripts submitted for publication\\n\\uf0b7 Oversee production and publication procedures.\\n\\uf0b7 Maintain editorial correspondence with prospective contributors.\\n\\uf0b7 Conduct business transactions including publicity, subscriptions and advertising.\\nPoetry Staff 20xx-present \\nUniversity Quarterly \\n\\uf0b7 Review and solicit poems for possible publication.\\nEditorial Assistant 20xx-20xx \\nSouthern Literary Journal \\n\\uf0b7Designed and maintained journal’s internet presence.\\n\\uf0b7 Edited copy for publication on a monthly basis.\\nUNIVERSITY SERVICE \\nGraduate Mentor 20xx-20xx \\nThe Career Center, University of Illinois \\n\\uf0b7Counsel minority undergraduates on graduate programs, application procedures and funding.\\nCareer Advisory Committee 20xx-20xx \\nGraduate College, University of Illinois \\n\\uf0b7Served on university committee to evaluate and propose career services for graduate students.\\n\\uf0b7 Collaborated with faculty and students to prepare final report for submission to the Graduate\\nCollege Dean.\\nUniversity Library Advisory Committee 20xx-20xx \\nUndergraduate Library, University of Illinois \\n\\uf0b7 Advised University Librarian on needed services and improvements.\\nPROFESSIONAL MEMBERSHIPS \\n\\uf0b7 Modern Language Association (MLA)\\n\\uf0b7 American Literature Association (ALA)\\n\\uf0b7 American Studies Association (ASA)\\n\\uf0b7 South Atlantic Modern Language Association\\n(samla)\\n\\uf0b7 Society for the Study of Southern Literature\\n\\uf0b7 Robert Penn Warren Circle\\n\\uf0b7 Southern Research Circle\\n\\uf0b7 Fellowship of Southern Writers\\nREFERENCES \\nJohn Jay, Assoc. Professor of English \\nUniversity of Illinois at Urbana-Champaign \\n(217) 333-1112, jjay@illinois.edu\\nJacob S. Snyder, Assoc. Professor of English \\nUniversity of Illinois at Urbana-Champaign \\n(217) 333-4700, jssnyd@illinois.edu\\nRobert Roberts, Professor of English \\nUniversity of Illinois at Urbana-Champaign \\n(217) 333-0203, rrobe3@illinois.edu\\nSally Briscoe, Assoc. Professor of English \\nButler University, Indianapolis, IN \\n(317) 492-8763, briscoe@butler.edu\\nRachel Green, page 3 of 3 ')]"
            ]
          },
          "metadata": {},
          "execution_count": 9
        }
      ]
    },
    {
      "cell_type": "markdown",
      "source": [
        "## Split the Extracted Data into Text Chunks"
      ],
      "metadata": {
        "id": "dhCeKVOs6AKH"
      }
    },
    {
      "cell_type": "code",
      "source": [
        "text_splitter = RecursiveCharacterTextSplitter(chunk_size=500, chunk_overlap=20)"
      ],
      "metadata": {
        "id": "8TZQWLG8595f"
      },
      "execution_count": null,
      "outputs": []
    },
    {
      "cell_type": "code",
      "source": [
        "text_chunks = text_splitter.split_documents(data)"
      ],
      "metadata": {
        "id": "J8ugXa2M6IRG"
      },
      "execution_count": null,
      "outputs": []
    },
    {
      "cell_type": "code",
      "source": [
        "text_chunks[0]"
      ],
      "metadata": {
        "colab": {
          "base_uri": "https://localhost:8080/"
        },
        "id": "Fe-19krB6KqF",
        "outputId": "f0f0f32b-66b0-47ba-d120-a5dd3f1a78b3"
      },
      "execution_count": null,
      "outputs": [
        {
          "output_type": "execute_result",
          "data": {
            "text/plain": [
              "Document(metadata={'source': 'pdfs/yolov7paper.pdf', 'page': 0}, page_content='YOLOv7: Trainable bag-of-freebies sets new state-of-the-art for real-time object\\ndetectors\\nChien-Yao Wang1, Alexey Bochkovskiy, and Hong-Yuan Mark Liao1\\n1Institute of Information Science, Academia Sinica, Taiwan\\nkinyiu@iis.sinica.edu.tw, alexeyab84@gmail.com, and liao@iis.sinica.edu.tw\\nAbstract\\nYOLOv7 surpasses all known object detectors in both\\nspeed and accuracy in the range from 5 FPS to 160 FPS\\nand has the highest accuracy 56.8% AP among all known')"
            ]
          },
          "metadata": {},
          "execution_count": 12
        }
      ]
    },
    {
      "cell_type": "code",
      "source": [
        "len(text_chunks)"
      ],
      "metadata": {
        "colab": {
          "base_uri": "https://localhost:8080/"
        },
        "id": "aXnTz5sa6L7d",
        "outputId": "8c6b3406-9deb-4d62-9098-c8188d53f495"
      },
      "execution_count": null,
      "outputs": [
        {
          "output_type": "execute_result",
          "data": {
            "text/plain": [
              "168"
            ]
          },
          "metadata": {},
          "execution_count": 13
        }
      ]
    },
    {
      "cell_type": "code",
      "source": [
        "text_chunks[2]"
      ],
      "metadata": {
        "colab": {
          "base_uri": "https://localhost:8080/"
        },
        "id": "CoxHsdvH6Ra9",
        "outputId": "4be1be0b-0e3a-49e2-cad6-4be00f6a203b"
      },
      "execution_count": null,
      "outputs": [
        {
          "output_type": "execute_result",
          "data": {
            "text/plain": [
              "Document(metadata={'source': 'pdfs/yolov7paper.pdf', 'page': 0}, page_content='DETR, DINO-5scale-R50, ViT-Adapter-B and many other\\nobject detectors in speed and accuracy. Moreover, we train\\nYOLOv7 only on MS COCO dataset from scratch without\\nusing any other datasets or pre-trained weights. Source\\ncode is released in https://github.com/WongKinYiu/yolov7.\\n1. Introduction\\nReal-time object detection is a very important topic in\\ncomputer vision, as it is often a necessary component in\\ncomputer vision systems. For example, multi-object track-')"
            ]
          },
          "metadata": {},
          "execution_count": 14
        }
      ]
    },
    {
      "cell_type": "code",
      "source": [
        "text_chunks[3]"
      ],
      "metadata": {
        "colab": {
          "base_uri": "https://localhost:8080/"
        },
        "id": "KeyBH-Km6TM9",
        "outputId": "0fa4b4b2-0779-497e-f634-d96e461e2915"
      },
      "execution_count": null,
      "outputs": [
        {
          "output_type": "execute_result",
          "data": {
            "text/plain": [
              "Document(metadata={'source': 'pdfs/yolov7paper.pdf', 'page': 0}, page_content='ing [94, 93], autonomous driving [40, 18], robotics [35, 58],\\nmedical image analysis [34, 46], etc. The computing de-\\nvices that execute real-time object detection is usually some\\nmobile CPU or GPU, as well as various neural processing\\nunits (NPU) developed by major manufacturers. For exam-\\nple, the Apple neural engine (Apple), the neural compute\\nstick (Intel), Jetson AI edge devices (Nvidia), the edge TPU\\n(Google), the neural processing engine (Qualcomm), the AI')"
            ]
          },
          "metadata": {},
          "execution_count": 15
        }
      ]
    },
    {
      "cell_type": "markdown",
      "source": [
        "## Downlaod the Embeddings"
      ],
      "metadata": {
        "id": "UJzcQCM96ZS-"
      }
    },
    {
      "cell_type": "code",
      "source": [
        "embedding = GoogleGenerativeAIEmbeddings(model=\"models/embedding-001\")"
      ],
      "metadata": {
        "id": "4zPQYiNn6otd"
      },
      "execution_count": null,
      "outputs": []
    },
    {
      "cell_type": "code",
      "source": [
        "result = embedding.embed_query(\"How are you!\")\n",
        "result"
      ],
      "metadata": {
        "id": "Gl4ZrxZm6orf",
        "colab": {
          "base_uri": "https://localhost:8080/"
        },
        "collapsed": true,
        "outputId": "7133d23d-7ad0-4ad8-d53f-b8c3220ff55a"
      },
      "execution_count": null,
      "outputs": [
        {
          "output_type": "execute_result",
          "data": {
            "text/plain": [
              "[0.016848864033818245,\n",
              " -0.023982178419828415,\n",
              " -0.02566431649029255,\n",
              " -0.016278648748993874,\n",
              " 0.04114809259772301,\n",
              " 0.004699599463492632,\n",
              " 0.005870650988072157,\n",
              " -0.01797056943178177,\n",
              " -0.0073622711934149265,\n",
              " 0.008471560664474964,\n",
              " 0.01614786498248577,\n",
              " 0.024009227752685547,\n",
              " 0.0045110913924872875,\n",
              " -0.04159996658563614,\n",
              " 0.0032222666777670383,\n",
              " -0.023183930665254593,\n",
              " -0.012084429152309895,\n",
              " -0.008298139087855816,\n",
              " -0.007639026734977961,\n",
              " -0.02419697307050228,\n",
              " 0.012122247368097305,\n",
              " 0.060329828411340714,\n",
              " 0.002901292871683836,\n",
              " -0.00524657079949975,\n",
              " 0.0025371431838721037,\n",
              " -0.03711733967065811,\n",
              " -0.0003088336088694632,\n",
              " -0.032901812344789505,\n",
              " -0.05879323557019234,\n",
              " 0.07344481348991394,\n",
              " -0.07499648630619049,\n",
              " 0.007145850453525782,\n",
              " -0.044786471873521805,\n",
              " -0.010418095625936985,\n",
              " 0.0431811548769474,\n",
              " -0.06883051991462708,\n",
              " 0.03805170953273773,\n",
              " 0.02998439408838749,\n",
              " -0.02814839966595173,\n",
              " 0.045941174030303955,\n",
              " -0.008327487856149673,\n",
              " -0.012221308425068855,\n",
              " -0.033937495201826096,\n",
              " -0.0471113957464695,\n",
              " 0.024163711816072464,\n",
              " -0.0388837493956089,\n",
              " -0.013584045693278313,\n",
              " 0.04859400540590286,\n",
              " 0.011151394806802273,\n",
              " -0.09357702732086182,\n",
              " 0.027261806651949883,\n",
              " 0.03033653274178505,\n",
              " 0.029575131833553314,\n",
              " -0.030480561777949333,\n",
              " -0.013453592546284199,\n",
              " -0.028247114270925522,\n",
              " 0.02562914602458477,\n",
              " 0.016383741050958633,\n",
              " -0.03366076946258545,\n",
              " 0.00010912720608757809,\n",
              " 0.020235834643244743,\n",
              " -0.03683333843946457,\n",
              " -0.0034023472107946873,\n",
              " 0.046263787895441055,\n",
              " -0.0009041623561643064,\n",
              " 0.010757822543382645,\n",
              " -0.00996489729732275,\n",
              " 0.05459168553352356,\n",
              " 0.09410908073186874,\n",
              " -0.05234890431165695,\n",
              " 0.007409403100609779,\n",
              " -0.05561493709683418,\n",
              " 0.03981395810842514,\n",
              " -0.05677655339241028,\n",
              " -0.05554883927106857,\n",
              " -0.061650004237890244,\n",
              " -0.018932484090328217,\n",
              " 0.06321290880441666,\n",
              " 0.01891462318599224,\n",
              " -0.01810344308614731,\n",
              " -0.05270426347851753,\n",
              " -0.03529595583677292,\n",
              " 0.03195946291089058,\n",
              " -0.01366518996655941,\n",
              " -0.059400979429483414,\n",
              " 0.05633347108960152,\n",
              " -0.042823780328035355,\n",
              " 0.024278350174427032,\n",
              " -0.020813150331377983,\n",
              " 0.04854768514633179,\n",
              " 0.0025019696913659573,\n",
              " 0.0027251129504293203,\n",
              " 0.03625856339931488,\n",
              " -0.05977090075612068,\n",
              " -0.005628544371575117,\n",
              " 0.05830845981836319,\n",
              " -0.025209983810782433,\n",
              " -0.01461380161345005,\n",
              " -0.019030721858143806,\n",
              " -0.027497652918100357,\n",
              " 0.0037262847181409597,\n",
              " -0.03947160765528679,\n",
              " -0.04005846753716469,\n",
              " -0.005945160984992981,\n",
              " 0.012797790579497814,\n",
              " 0.014922898262739182,\n",
              " -0.03474252298474312,\n",
              " 0.08295422792434692,\n",
              " -0.021533900871872902,\n",
              " 0.07340790331363678,\n",
              " -0.06733103096485138,\n",
              " 0.030382711440324783,\n",
              " -0.0027013167273253202,\n",
              " -0.012357179075479507,\n",
              " 0.0608801394701004,\n",
              " -0.012447485700249672,\n",
              " 0.00017047520668711513,\n",
              " 0.07314836978912354,\n",
              " 0.018505018204450607,\n",
              " 0.04075334593653679,\n",
              " -0.04593140631914139,\n",
              " -0.014043675735592842,\n",
              " 0.055954743176698685,\n",
              " -0.008201519958674908,\n",
              " 0.04750925675034523,\n",
              " 0.010614540427923203,\n",
              " 0.007587139494717121,\n",
              " 0.07562391459941864,\n",
              " 0.05676650628447533,\n",
              " 0.03863361105322838,\n",
              " -0.024851975962519646,\n",
              " -0.041224751621484756,\n",
              " 0.048176344484090805,\n",
              " 0.012474601157009602,\n",
              " 0.03467285633087158,\n",
              " 0.053178999572992325,\n",
              " 0.05897554010152817,\n",
              " -0.010287235490977764,\n",
              " 0.02181841991841793,\n",
              " 0.019796639680862427,\n",
              " -0.01642979308962822,\n",
              " 0.0312179122120142,\n",
              " -0.02622261829674244,\n",
              " 0.04801640287041664,\n",
              " 0.01623213104903698,\n",
              " 0.017433157190680504,\n",
              " 0.007583199068903923,\n",
              " -0.034374967217445374,\n",
              " 0.04059380665421486,\n",
              " -0.02833826281130314,\n",
              " -0.016301855444908142,\n",
              " -0.02417352795600891,\n",
              " -0.05596042424440384,\n",
              " 0.025177491828799248,\n",
              " 0.07019095122814178,\n",
              " 0.037839375436306,\n",
              " -0.03841694816946983,\n",
              " 0.0003876417176797986,\n",
              " 0.03057396411895752,\n",
              " 0.0012314911000430584,\n",
              " 0.06307238340377808,\n",
              " 0.030454039573669434,\n",
              " 0.049243681132793427,\n",
              " -0.02747221849858761,\n",
              " -0.05157671496272087,\n",
              " -0.02397223748266697,\n",
              " 0.019525814801454544,\n",
              " 0.012242846190929413,\n",
              " -0.05011560767889023,\n",
              " -0.005702176596969366,\n",
              " 0.02506832778453827,\n",
              " -0.0038520691450685263,\n",
              " -0.03815658017992973,\n",
              " -0.05860668048262596,\n",
              " -0.005270909983664751,\n",
              " -0.04815644770860672,\n",
              " 0.048804912716150284,\n",
              " -0.025014426559209824,\n",
              " -0.04948630556464195,\n",
              " -0.020712852478027344,\n",
              " -0.05663510411977768,\n",
              " -0.042854875326156616,\n",
              " -0.030014153569936752,\n",
              " 0.028097685426473618,\n",
              " -0.006690251175314188,\n",
              " -0.041798416525125504,\n",
              " 0.07520505040884018,\n",
              " -0.052952416241168976,\n",
              " -0.0017112749628722668,\n",
              " 0.011793592013418674,\n",
              " 0.01585536077618599,\n",
              " -0.03139648586511612,\n",
              " 0.008418252691626549,\n",
              " 0.00988343358039856,\n",
              " -0.03020836040377617,\n",
              " 0.03466201573610306,\n",
              " -0.046605437994003296,\n",
              " 0.03158013895153999,\n",
              " 0.029108813032507896,\n",
              " -0.04618866369128227,\n",
              " 0.00036850044853053987,\n",
              " 0.07598569989204407,\n",
              " 0.014224682003259659,\n",
              " -0.00022166658891364932,\n",
              " 0.04189256951212883,\n",
              " -0.02840312384068966,\n",
              " 0.04830973222851753,\n",
              " -0.01433626376092434,\n",
              " -0.0038313562981784344,\n",
              " 0.04204942286014557,\n",
              " -0.04548541456460953,\n",
              " -0.014664500020444393,\n",
              " -0.064230777323246,\n",
              " 0.006859945598989725,\n",
              " 0.026058582589030266,\n",
              " 0.029965482652187347,\n",
              " 0.02453862689435482,\n",
              " 0.028804481029510498,\n",
              " 0.00582276564091444,\n",
              " -0.031535305082798004,\n",
              " 0.002904794877395034,\n",
              " 0.0002444401034153998,\n",
              " -0.05614081025123596,\n",
              " -0.00702590262517333,\n",
              " 0.01689870096743107,\n",
              " 0.025284677743911743,\n",
              " -0.036931175738573074,\n",
              " -0.013730257749557495,\n",
              " -0.019434209913015366,\n",
              " -0.0313965305685997,\n",
              " -0.012587498873472214,\n",
              " 0.04253697767853737,\n",
              " -0.012895680963993073,\n",
              " -0.03433125838637352,\n",
              " 0.036965303122997284,\n",
              " -0.009223991073668003,\n",
              " -0.02133840136229992,\n",
              " 0.01143928524106741,\n",
              " 0.020071852952241898,\n",
              " 0.0454898439347744,\n",
              " -0.06955807656049728,\n",
              " 0.04634563624858856,\n",
              " 0.006425144150853157,\n",
              " 0.05264899134635925,\n",
              " -0.022968219593167305,\n",
              " -0.039772726595401764,\n",
              " -0.04213981702923775,\n",
              " 0.009952370077371597,\n",
              " 0.009919079020619392,\n",
              " 0.04095097631216049,\n",
              " 3.258211290813051e-05,\n",
              " -0.04106264188885689,\n",
              " 0.015888817608356476,\n",
              " 0.014435432851314545,\n",
              " -0.08415069431066513,\n",
              " 0.053939759731292725,\n",
              " -0.08064935356378555,\n",
              " 0.011317243799567223,\n",
              " 0.008708969689905643,\n",
              " 0.041757963597774506,\n",
              " 0.02504524402320385,\n",
              " -0.000203848016099073,\n",
              " 0.008340616710484028,\n",
              " 0.022455373778939247,\n",
              " -0.06619860231876373,\n",
              " 0.01889585144817829,\n",
              " 0.002662092447280884,\n",
              " -0.04937794804573059,\n",
              " -0.01844848319888115,\n",
              " -0.02849097177386284,\n",
              " -0.004019813146442175,\n",
              " -0.04716990143060684,\n",
              " 0.08023157715797424,\n",
              " 0.013517218641936779,\n",
              " 0.016993537545204163,\n",
              " 0.0496445894241333,\n",
              " -0.018877994269132614,\n",
              " -0.0011967836180701852,\n",
              " 0.030429070815443993,\n",
              " -0.02292788214981556,\n",
              " -0.007935987785458565,\n",
              " 0.07196906208992004,\n",
              " 0.022176634520292282,\n",
              " -0.040417853742837906,\n",
              " -0.014402050524950027,\n",
              " -0.02571471780538559,\n",
              " -0.0400145947933197,\n",
              " -0.011004646308720112,\n",
              " -0.012093882076442242,\n",
              " -0.01882002502679825,\n",
              " -0.05051114782691002,\n",
              " -0.030710559338331223,\n",
              " -0.0021978074219077826,\n",
              " -0.024227499961853027,\n",
              " -0.051589954644441605,\n",
              " -0.030649349093437195,\n",
              " 0.03280314803123474,\n",
              " 0.007503220811486244,\n",
              " 0.033801011741161346,\n",
              " -0.008662397041916847,\n",
              " 0.005458444822579622,\n",
              " 0.008521531708538532,\n",
              " 0.025363445281982422,\n",
              " -0.07310697436332703,\n",
              " 0.010162146762013435,\n",
              " -0.004638913553208113,\n",
              " -0.03943876922130585,\n",
              " -0.0228058360517025,\n",
              " -0.008363237604498863,\n",
              " 0.023602552711963654,\n",
              " -0.035815123468637466,\n",
              " -0.0003936430730391294,\n",
              " -0.039211567491292953,\n",
              " 0.022578231990337372,\n",
              " 0.042492106556892395,\n",
              " 0.031660761684179306,\n",
              " 0.004054385703057051,\n",
              " 0.038064245134592056,\n",
              " -0.019527407363057137,\n",
              " 0.054299045354127884,\n",
              " -0.009792657569050789,\n",
              " 0.12276127189397812,\n",
              " 0.028793491423130035,\n",
              " 0.006721587851643562,\n",
              " -0.002811069367453456,\n",
              " -7.791411189828068e-05,\n",
              " -0.03517870232462883,\n",
              " 0.05330899730324745,\n",
              " 0.0494978241622448,\n",
              " 0.009964612312614918,\n",
              " -0.011759189888834953,\n",
              " 0.030005615204572678,\n",
              " -0.03325573354959488,\n",
              " -0.02776331454515457,\n",
              " 0.025823960080742836,\n",
              " 0.021952815353870392,\n",
              " -0.037333954125642776,\n",
              " 0.02856447733938694,\n",
              " -0.014107819646596909,\n",
              " -0.03206917643547058,\n",
              " 0.00957003515213728,\n",
              " 0.007490263320505619,\n",
              " -0.01884889416396618,\n",
              " -0.05773421749472618,\n",
              " -0.05455948784947395,\n",
              " -0.015604215674102306,\n",
              " -0.01349283941090107,\n",
              " 0.03731827065348625,\n",
              " 0.07924459874629974,\n",
              " 0.030479153618216515,\n",
              " 0.00965918879956007,\n",
              " 0.09955635666847229,\n",
              " -0.02134740725159645,\n",
              " 0.00914717372506857,\n",
              " -0.014660959132015705,\n",
              " -0.005204644054174423,\n",
              " 0.024398161098361015,\n",
              " 0.0038679030258208513,\n",
              " 0.05546434223651886,\n",
              " -0.03077050857245922,\n",
              " -0.04483829066157341,\n",
              " 0.01653125323355198,\n",
              " -0.008717237040400505,\n",
              " 0.018479542806744576,\n",
              " -0.04705791547894478,\n",
              " -0.0010652828495949507,\n",
              " -0.01228940300643444,\n",
              " -0.027203219011425972,\n",
              " -0.014130288735032082,\n",
              " 0.016484541818499565,\n",
              " -0.009216668084263802,\n",
              " -0.03668459504842758,\n",
              " -0.007043713238090277,\n",
              " -0.033205173909664154,\n",
              " -0.03341349959373474,\n",
              " 7.94491934357211e-05,\n",
              " -0.04548541456460953,\n",
              " -0.03887447342276573,\n",
              " 0.004988132975995541,\n",
              " 0.022505056113004684,\n",
              " -0.011224737390875816,\n",
              " -0.037335000932216644,\n",
              " 0.04765937477350235,\n",
              " 0.007026813458651304,\n",
              " 0.04801646247506142,\n",
              " -0.05961713194847107,\n",
              " -0.00872803758829832,\n",
              " 0.030241888016462326,\n",
              " 0.008434348739683628,\n",
              " 0.02627703547477722,\n",
              " 0.04861621558666229,\n",
              " -0.0027784579433500767,\n",
              " 0.08262412995100021,\n",
              " 0.04204785078763962,\n",
              " -0.023883379995822906,\n",
              " 0.009707251563668251,\n",
              " -0.023406080901622772,\n",
              " -0.04617530107498169,\n",
              " -0.005455158185213804,\n",
              " -0.023117810487747192,\n",
              " -0.030769119039177895,\n",
              " -0.018569769337773323,\n",
              " 0.003185548586770892,\n",
              " -0.029083270579576492,\n",
              " 0.00032951481989584863,\n",
              " -0.03994116187095642,\n",
              " -0.049219004809856415,\n",
              " 0.006955350749194622,\n",
              " -0.016500934958457947,\n",
              " -0.023838886991143227,\n",
              " 0.01744219660758972,\n",
              " 0.008038882166147232,\n",
              " 0.05881275609135628,\n",
              " -0.10371455550193787,\n",
              " -0.06532607227563858,\n",
              " -0.05714304745197296,\n",
              " 0.056011833250522614,\n",
              " 0.0024004338774830103,\n",
              " -0.01727086305618286,\n",
              " 0.03866827115416527,\n",
              " 0.05024012178182602,\n",
              " 0.04020354524254799,\n",
              " 0.00976491253823042,\n",
              " -0.01810520887374878,\n",
              " -0.019743550568819046,\n",
              " -0.052658308297395706,\n",
              " -0.012156234122812748,\n",
              " -9.26571010495536e-05,\n",
              " -0.02282281592488289,\n",
              " 0.009059852920472622,\n",
              " 0.01501381490379572,\n",
              " 0.013491116464138031,\n",
              " 0.007508833426982164,\n",
              " -0.03475407883524895,\n",
              " -0.03698142245411873,\n",
              " -0.054313309490680695,\n",
              " 0.02591773122549057,\n",
              " 0.013475373387336731,\n",
              " -0.006320171058177948,\n",
              " -0.013724539428949356,\n",
              " -0.0185253843665123,\n",
              " -0.011732961982488632,\n",
              " 0.03077360801398754,\n",
              " -0.0025015543214976788,\n",
              " -0.06624661386013031,\n",
              " -0.007779090199619532,\n",
              " -0.055619314312934875,\n",
              " -0.06382022798061371,\n",
              " 0.026117101311683655,\n",
              " -0.09261123836040497,\n",
              " 0.026318805292248726,\n",
              " -0.09010700136423111,\n",
              " -0.005510303191840649,\n",
              " -0.052327197045087814,\n",
              " -0.039565958082675934,\n",
              " -0.044769223779439926,\n",
              " 0.003930757287889719,\n",
              " 0.09503155201673508,\n",
              " -0.015366203151643276,\n",
              " 0.012007007375359535,\n",
              " -0.004384225700050592,\n",
              " -0.00469243386760354,\n",
              " -0.0644281655550003,\n",
              " -0.07599587738513947,\n",
              " 0.051166556775569916,\n",
              " -0.01785743609070778,\n",
              " 0.0634482130408287,\n",
              " 0.01482100784778595,\n",
              " 0.01174791157245636,\n",
              " 0.05794660747051239,\n",
              " 0.020813453942537308,\n",
              " -0.013430515304207802,\n",
              " 0.012944811955094337,\n",
              " 0.06526384502649307,\n",
              " -0.009223821572959423,\n",
              " 0.025115961208939552,\n",
              " -0.08097798377275467,\n",
              " -0.008690840564668179,\n",
              " -0.011429370380938053,\n",
              " -0.035379935055971146,\n",
              " 0.007912267930805683,\n",
              " 0.011128515005111694,\n",
              " 0.03592008724808693,\n",
              " 0.018902093172073364,\n",
              " 0.022468477487564087,\n",
              " 0.010743244551122189,\n",
              " 0.014546845108270645,\n",
              " -0.021401431411504745,\n",
              " -0.04218609258532524,\n",
              " 0.06245080754160881,\n",
              " -0.03164713457226753,\n",
              " -0.03089413419365883,\n",
              " -0.030015937983989716,\n",
              " -0.03597629815340042,\n",
              " -0.010327908210456371,\n",
              " 0.00841151550412178,\n",
              " 0.0002478673995938152,\n",
              " -0.0025547202676534653,\n",
              " 0.030070452019572258,\n",
              " 0.03278128430247307,\n",
              " -0.010530911386013031,\n",
              " -0.006447559222579002,\n",
              " -0.018433043733239174,\n",
              " 0.009949056431651115,\n",
              " 0.04474335536360741,\n",
              " -0.05968015640974045,\n",
              " 0.007629241794347763,\n",
              " 0.012983126565814018,\n",
              " 0.013593635521829128,\n",
              " 0.034177836030721664,\n",
              " 0.002575769554823637,\n",
              " 0.028950320556759834,\n",
              " 0.008390882983803749,\n",
              " 0.00427370797842741,\n",
              " 0.059078190475702286,\n",
              " 0.047111380845308304,\n",
              " -0.007759347558021545,\n",
              " 0.028699923306703568,\n",
              " 0.002367661101743579,\n",
              " 0.037834662944078445,\n",
              " 0.05900708958506584,\n",
              " -0.007213969249278307,\n",
              " -0.09782078862190247,\n",
              " -0.020206207409501076,\n",
              " -0.012185107916593552,\n",
              " -0.05094689503312111,\n",
              " 0.03752129524946213,\n",
              " 0.012042917311191559,\n",
              " -0.03151088207960129,\n",
              " 0.012487392872571945,\n",
              " -0.017723115161061287,\n",
              " 0.13266977667808533,\n",
              " -0.05365477502346039,\n",
              " -0.0016340588917955756,\n",
              " -0.01072273962199688,\n",
              " -0.029834916815161705,\n",
              " -0.02347647398710251,\n",
              " 0.030433272942900658,\n",
              " 0.045377131551504135,\n",
              " 0.014657723717391491,\n",
              " 0.027225065976381302,\n",
              " -0.006945130880922079,\n",
              " 0.037732165306806564,\n",
              " 0.030727768316864967,\n",
              " 0.023268146440386772,\n",
              " 0.006773464381694794,\n",
              " 0.0006809773040004075,\n",
              " -0.07786998897790909,\n",
              " 0.012175059877336025,\n",
              " -0.014175389893352985,\n",
              " -0.04348640516400337,\n",
              " -0.009648296050727367,\n",
              " 0.021776894107460976,\n",
              " -0.016448864713311195,\n",
              " 0.018455786630511284,\n",
              " -0.0018319640075787902,\n",
              " -0.03211827203631401,\n",
              " 0.031585946679115295,\n",
              " -0.01900288462638855,\n",
              " -0.006108996924012899,\n",
              " 0.013040663674473763,\n",
              " -0.025077227503061295,\n",
              " 0.010339755564928055,\n",
              " 0.017794951796531677,\n",
              " 0.1169886663556099,\n",
              " 0.03519125655293465,\n",
              " -0.023759808391332626,\n",
              " 0.053984399884939194,\n",
              " 0.0734115019440651,\n",
              " -0.026887493208050728,\n",
              " 0.01468680240213871,\n",
              " 0.008551874198019505,\n",
              " 0.054398685693740845,\n",
              " 0.011766092851758003,\n",
              " 0.03056778386235237,\n",
              " -0.05042179673910141,\n",
              " -0.01926817186176777,\n",
              " 0.014253098517656326,\n",
              " 0.0037245391868054867,\n",
              " -0.0029789262916892767,\n",
              " 0.039389315992593765,\n",
              " 0.004796353168785572,\n",
              " 0.0009306142455898225,\n",
              " 0.0566927008330822,\n",
              " -0.03740544617176056,\n",
              " 0.07354636490345001,\n",
              " 0.011145399883389473,\n",
              " 0.007780188694596291,\n",
              " 0.05352606251835823,\n",
              " 0.0198346134275198,\n",
              " 0.002330886200070381,\n",
              " 0.040456924587488174,\n",
              " -0.018734067678451538,\n",
              " 0.014700922183692455,\n",
              " -0.03270937502384186,\n",
              " 0.003452792763710022,\n",
              " -0.056497037410736084,\n",
              " -0.02007073536515236,\n",
              " 0.009577522985637188,\n",
              " -0.008144921623170376,\n",
              " 0.03996625915169716,\n",
              " -0.06034157797694206,\n",
              " 0.08115626126527786,\n",
              " -0.0400618240237236,\n",
              " -0.004802648443728685,\n",
              " 0.0071313087828457355,\n",
              " -0.019299857318401337,\n",
              " -0.02629350870847702,\n",
              " 0.00011254705168539658,\n",
              " 0.020291823893785477,\n",
              " 0.007092769257724285,\n",
              " -0.02399648353457451,\n",
              " 0.02391924150288105,\n",
              " -0.055353425443172455,\n",
              " -0.03373410180211067,\n",
              " -0.020682349801063538,\n",
              " 0.04230143129825592,\n",
              " -0.03074689581990242,\n",
              " 0.015079973265528679,\n",
              " -0.03675615414977074,\n",
              " 0.015206819400191307,\n",
              " -0.04995943233370781,\n",
              " -0.010291202925145626,\n",
              " 0.000311205891193822,\n",
              " 0.06805006414651871,\n",
              " 0.005895290058106184,\n",
              " -0.00638402346521616,\n",
              " -0.028793759644031525,\n",
              " 0.03323209658265114,\n",
              " 0.030752532184123993,\n",
              " 0.018560150638222694,\n",
              " 0.05644156038761139,\n",
              " 0.025407699868083,\n",
              " -0.0004643950960598886,\n",
              " -0.04523438960313797,\n",
              " -0.013877347111701965,\n",
              " -0.022895384579896927,\n",
              " -0.021119577810168266,\n",
              " 0.0009832148207351565,\n",
              " -0.044132985174655914,\n",
              " -0.11311179399490356,\n",
              " 0.02774961292743683,\n",
              " 0.053094662725925446,\n",
              " -0.035816092044115067,\n",
              " -0.005990522913634777,\n",
              " 0.0815846398472786,\n",
              " 0.0009116461151279509,\n",
              " -0.07837498188018799,\n",
              " 0.006012829951941967,\n",
              " 0.005206524860113859,\n",
              " -0.031166141852736473,\n",
              " -0.017108231782913208,\n",
              " -0.00559743819758296,\n",
              " -0.006212418898940086,\n",
              " -0.0034373304806649685,\n",
              " 0.025088351219892502,\n",
              " -0.021214403212070465,\n",
              " -0.03436248376965523,\n",
              " 0.028017833828926086,\n",
              " 0.004369364120066166,\n",
              " -0.06740757822990417,\n",
              " 0.00017350558482576162,\n",
              " 0.006967236753553152,\n",
              " 0.007958058267831802,\n",
              " -0.025113144889473915,\n",
              " -0.03198152780532837,\n",
              " -0.023872632533311844,\n",
              " -0.04520991072058678,\n",
              " 0.0010333991376683116,\n",
              " 0.04480189085006714,\n",
              " -0.04546613618731499,\n",
              " 0.03334302455186844,\n",
              " 0.051767487078905106,\n",
              " -0.017945323139429092,\n",
              " -0.02527843415737152,\n",
              " 0.0325021855533123,\n",
              " -0.06055896729230881,\n",
              " 0.026453889906406403,\n",
              " 0.009347236715257168,\n",
              " 0.03421483188867569,\n",
              " -0.04061197489500046,\n",
              " -0.04094300791621208,\n",
              " 0.011444260366261005,\n",
              " 0.018470603972673416,\n",
              " 0.0006036859704181552,\n",
              " 0.017663544043898582,\n",
              " 0.018924079835414886,\n",
              " 0.019645273685455322,\n",
              " -0.018246278166770935,\n",
              " -0.0055954186245799065,\n",
              " 0.0026064622215926647,\n",
              " 0.000552693905774504,\n",
              " -0.057447150349617004,\n",
              " 0.012491969391703606,\n",
              " 0.08270459622144699,\n",
              " 0.014487474225461483,\n",
              " -0.034304000437259674,\n",
              " -0.012931305915117264,\n",
              " 0.00014896388165652752,\n",
              " 0.040836941450834274,\n",
              " -0.03002868965268135,\n",
              " -0.02798047475516796,\n",
              " -0.01307370513677597,\n",
              " 0.010678640566766262,\n",
              " 0.01354316808283329,\n",
              " 0.04393680766224861,\n",
              " -0.02369731292128563,\n",
              " 0.0006794859073124826,\n",
              " 0.0006707325228489935,\n",
              " 0.04990692809224129,\n",
              " 0.05247897282242775,\n",
              " -0.009032373316586018,\n",
              " -0.06640470772981644,\n",
              " 0.03816712647676468,\n",
              " 0.009812616743147373,\n",
              " -0.028075987473130226,\n",
              " 0.017763417214155197,\n",
              " -0.00263391574844718,\n",
              " -0.013940825127065182,\n",
              " 0.04814872890710831,\n",
              " 0.0515252985060215,\n",
              " 0.01942962221801281,\n",
              " 0.07032406330108643,\n",
              " -0.035210978239774704,\n",
              " -0.04462871700525284,\n",
              " 0.020418481901288033,\n",
              " -0.06124615669250488,\n",
              " 0.0396014004945755,\n",
              " -0.011922291480004787,\n",
              " -0.015952473506331444,\n",
              " 0.09002600610256195,\n",
              " -0.021368566900491714,\n",
              " 0.0013486883835867047,\n",
              " 0.0007797149592079222,\n",
              " -0.008224653080105782,\n",
              " 0.052870891988277435,\n",
              " -0.0077862124890089035,\n",
              " 0.03181641176342964,\n",
              " -0.006306608207523823,\n",
              " -0.09674627333879471,\n",
              " -0.039095960557460785,\n",
              " -0.02974284626543522,\n",
              " 0.05073986202478409,\n",
              " 0.064617820084095,\n",
              " 0.008349849842488766,\n",
              " -0.01697378233075142,\n",
              " 0.011499335989356041,\n",
              " 0.00489217322319746,\n",
              " 0.026092026382684708,\n",
              " -0.026508335024118423,\n",
              " -0.032248735427856445,\n",
              " 0.01265588030219078,\n",
              " -0.011529712937772274,\n",
              " 0.07048854231834412,\n",
              " 0.04862966015934944,\n",
              " 0.011601711623370647,\n",
              " -0.0028332083020359278,\n",
              " 0.03000427596271038,\n",
              " 0.0016027309466153383,\n",
              " 0.0012578095775097609,\n",
              " -0.0306673776358366,\n",
              " -0.015887495130300522,\n",
              " -0.0032361566554754972,\n",
              " 0.027531888335943222,\n",
              " 0.012051394209265709,\n",
              " -0.0073497542180120945,\n",
              " 0.03104684129357338,\n",
              " 0.03515319526195526]"
            ]
          },
          "metadata": {},
          "execution_count": 26
        }
      ]
    },
    {
      "cell_type": "code",
      "source": [
        "len(result)  # dimenstion"
      ],
      "metadata": {
        "colab": {
          "base_uri": "https://localhost:8080/"
        },
        "id": "O0_dlP6c6yDm",
        "outputId": "a15adaff-a31f-4c35-d6e6-a59f5c7e09d1"
      },
      "execution_count": null,
      "outputs": [
        {
          "output_type": "execute_result",
          "data": {
            "text/plain": [
              "768"
            ]
          },
          "metadata": {},
          "execution_count": 19
        }
      ]
    },
    {
      "cell_type": "markdown",
      "source": [
        "## Initializing the Pinecone"
      ],
      "metadata": {
        "id": "nSuEdaLP7dvV"
      }
    },
    {
      "cell_type": "code",
      "source": [
        "PINECONE_API_KEY = os.environ.get('PINECONE_API_KEY', '')"
      ],
      "metadata": {
        "id": "OoCbquCg65Q1"
      },
      "execution_count": null,
      "outputs": []
    },
    {
      "cell_type": "code",
      "source": [
        "from langchain_pinecone import PineconeVectorStore\n",
        "# from pinecone import Pinecone\n",
        "# # initialize pinecone\n",
        "# pc = Pinecone(api_key=PINECONE_API_KEY)\n",
        "\n",
        "index_name = 'test' # put in the name of your pinecone index here\n",
        "\n",
        "vectorstore = PineconeVectorStore(index_name=index_name, embedding=embedding, pinecone_api_key=PINECONE_API_KEY)"
      ],
      "metadata": {
        "id": "ZxX3o89_8F-W"
      },
      "execution_count": null,
      "outputs": []
    },
    {
      "cell_type": "markdown",
      "source": [
        "## Create Embeddings for each of the Text Chunk"
      ],
      "metadata": {
        "id": "ZKwc0Cr78pUl"
      }
    },
    {
      "cell_type": "code",
      "source": [
        "vectorstore.add_documents(text_chunks)"
      ],
      "metadata": {
        "id": "dmGWBzkA8n72",
        "colab": {
          "base_uri": "https://localhost:8080/"
        },
        "collapsed": true,
        "outputId": "3e8d145b-d640-4990-a290-4510635d545f"
      },
      "execution_count": null,
      "outputs": [
        {
          "output_type": "execute_result",
          "data": {
            "text/plain": [
              "['62d41a31-ac81-4caa-bcff-218b32a37587',\n",
              " 'a63e9358-2783-447b-8930-36af72c5a1da',\n",
              " '464ea003-92f6-4033-880b-2a4744c25283',\n",
              " '533516ae-3da9-4029-9383-dc57e17034d0',\n",
              " 'f4025840-53e6-4309-ac65-4de7ead23f61',\n",
              " 'ce25020e-90b0-4172-9946-f4221233bf3b',\n",
              " '1e825a68-e7e4-4c5e-8339-4636ccce1d8d',\n",
              " '559a3a74-e4ff-40cc-8881-0ad6ab2c7b3d',\n",
              " '5f3b4e1f-1798-4e48-a8c6-fd27d590b469',\n",
              " 'f46ace51-3f58-47a7-944f-1f10d3436e32',\n",
              " '83d6f2fd-fce5-4b5a-9a5e-c6639f556dd0',\n",
              " '13a8ca01-0dce-4400-be9e-43a7acb9a347',\n",
              " 'ad2537ea-6fdd-44e8-be85-d0295da865f4',\n",
              " '7344a8d3-2deb-4f8a-b32a-2c0e96e60352',\n",
              " 'ff71c966-2fb4-4aa7-8330-30117fda34d6',\n",
              " '9256d42f-2be9-4e10-876e-c17b82229afa',\n",
              " 'cf9bf160-8d98-4ac6-91d1-9c07e1f41e8a',\n",
              " 'd3ec323a-a268-4401-bc3a-0437b531deeb',\n",
              " '589b16f5-3f01-4bc4-a7fb-5ee88932f767',\n",
              " '5b22657e-286d-4eb7-9aad-e3b4ffaa4389',\n",
              " '530e58c3-8773-45aa-a252-c2c02f08f50a',\n",
              " '62345aa4-7a9f-4e05-bfff-4f4dc30f7eb1',\n",
              " '1152a675-cc32-4fe8-9524-bb2ad1489600',\n",
              " '62cd8f57-8c25-4376-b562-b608d5406f2b',\n",
              " '5159deac-1ee1-435a-b074-b94f0ade91b7',\n",
              " '0b64677a-1024-47de-b53d-3039526da875',\n",
              " '8207b020-b098-42cb-84d9-6c7f5afdf2d0',\n",
              " '8ae64026-cfdd-4c23-9081-0588b4c4137b',\n",
              " '6872fdae-2359-4816-a1d7-679a8e182608',\n",
              " 'f90e97d0-353a-4d1b-84c7-385b90c916a6',\n",
              " '45e661bd-2d1c-402c-83f2-e12e7afc2bf4',\n",
              " 'f8032b1d-0996-46cc-b236-b020c72f8335',\n",
              " 'a7aff4b7-28a4-4448-bfcb-4eca13a3b9c5',\n",
              " '31593a0c-10bb-46c9-85ff-a875367b9cce',\n",
              " '4cd73482-285e-4825-a627-9a7825bf86d0',\n",
              " '09891ecf-2163-475b-9dbd-ef8ae014db9d',\n",
              " '5e39a330-a20e-4fdb-9c4a-6f38830525df',\n",
              " '71234db6-9d72-4e10-ac26-3af4ccf4a0e7',\n",
              " '8f0562c3-f8b1-4e9e-a875-c51552513d9f',\n",
              " '0eb66b28-a200-444e-b7ea-92681624241f',\n",
              " '82f24ffb-7c29-4458-9319-e9c658608b98',\n",
              " '9b3a56c6-ec24-4d88-8e81-c95685481f14',\n",
              " 'b8d9cc72-6064-4aea-8981-1c9027eb5957',\n",
              " '736dcc60-eaec-45d0-bfb9-91d86ebdfd92',\n",
              " '74e4bc83-e938-42fc-ab82-8497130f2fcf',\n",
              " '6156cff0-fe6d-4338-8072-550fc27b973a',\n",
              " 'e0c23550-6fe6-40b7-8010-a60c9047131d',\n",
              " '2b9f472d-0a25-4d34-bf52-faeeee6ba888',\n",
              " 'bf343523-9e5e-4ee4-92b1-f2a00f167eb9',\n",
              " 'e11fc5c4-0b7e-4100-a3ff-7de22ef2ecf9',\n",
              " 'c1b0eb5a-cc2a-4c77-9858-d2c75cf9ac86',\n",
              " '3dc54dba-e0eb-4e31-8fe7-866a18c05c2a',\n",
              " '6201bb15-d568-4c3c-8db9-f001836318ed',\n",
              " '7885ede2-7b19-41d5-8b46-64a469aadd3f',\n",
              " 'ae291acd-a7c3-41de-85d6-e198087bb6fb',\n",
              " '40f2fd6c-380b-4481-a940-dce71446e55a',\n",
              " 'd76cd1fa-574f-44a7-90b7-2f10d0faa1cb',\n",
              " '7e51aa86-7396-4754-b04b-08d0d8889efa',\n",
              " '6f595174-498b-422f-a2b0-64cf07f92821',\n",
              " '382f0d97-c87f-4273-b371-ee55325938cb',\n",
              " '67ac00c3-118f-403b-9e85-f2e9f877bf60',\n",
              " '9cd93773-6ca7-4f1e-84f5-b054a259e5c6',\n",
              " '7a9ca51d-f954-4b77-9a86-641077d2c222',\n",
              " '23735bf7-0da2-4864-a44d-ef2239b1662b',\n",
              " 'c3fddb80-2462-4904-8ca3-8cb161fa702a',\n",
              " '65f678d4-5b7a-40c9-970f-741f121423c1',\n",
              " '331015bd-f0dd-49a8-a7c2-f7104eacca3f',\n",
              " '3f2d14fe-3399-4098-8c22-c78b60938e11',\n",
              " '1ab3bdad-2771-4de6-a8d7-d255f60cffed',\n",
              " '00fbd6b3-0df5-4f5c-8eac-c381171c7352',\n",
              " '70df418b-3e70-4ab5-83cd-456d2a4e8ea8',\n",
              " 'e9823a07-5285-426a-b3b1-344e69c3b65f',\n",
              " 'cb765f64-75aa-4988-9e9a-2c0e43c82858',\n",
              " '05462efe-4203-4137-9f27-a9246e8a1691',\n",
              " 'e35ae62f-ac0a-4974-8658-708cd030952d',\n",
              " '64c4b580-6035-49b1-8dd5-9bac24949897',\n",
              " 'c5ec418d-c939-4211-90c4-e68010464d3a',\n",
              " '6fd360a5-470f-45f9-9a3b-df06a37af77b',\n",
              " '2944ad00-b3b8-4c12-89d7-7a8473414b87',\n",
              " '8aeadc8f-2a9c-4374-84ec-5b485d88de20',\n",
              " 'd1eef30e-cc64-4c09-8067-53769e6e7f24',\n",
              " '284b25e3-b6cb-4e01-87db-78e1f3d57436',\n",
              " 'a72058b7-989c-42b8-9d68-e94cd81978a7',\n",
              " 'c4997b5f-58d0-48a2-a51e-c4bf62f98ca0',\n",
              " '36910d75-7ede-4522-a2d6-b84316b42fbc',\n",
              " 'd05f04f9-d0db-47dd-9cab-96a22e624785',\n",
              " '1e8386ab-06c3-42ce-9f26-e5836ed4fac0',\n",
              " '2e020f90-98c8-4833-b63a-1bf35da332ec',\n",
              " 'dcf31611-5bfd-4adb-87b5-6a7a642102c0',\n",
              " '10c62505-b6e2-4332-8823-ca108f448595',\n",
              " '56d6004a-a63a-4bdc-a41e-f1a1dc1086bf',\n",
              " 'c60a80b2-2165-4943-8da7-056736ac2294',\n",
              " '657fffef-bd74-4c31-965e-fd344a273c7f',\n",
              " '7c959be1-0db3-4874-ae4b-05113d1472c0',\n",
              " '50138c86-8333-415a-8e33-56d8dfc0fe4c',\n",
              " 'd92c7a0b-42cd-4843-8937-8cfa0ceeef00',\n",
              " '4d42b340-3db5-4454-8a2a-ae48e1155ac3',\n",
              " 'e2132ad9-8083-40cb-822e-9d01848c43e8',\n",
              " '5e780f9e-cc49-4c34-a25a-7b704d394932',\n",
              " '0f1d1527-6c9f-4dbe-9e52-adb96a77454c',\n",
              " '7144a1e3-7a27-4605-a70d-2118b19eb354',\n",
              " 'ee5cb110-ff82-41cb-ba52-62faf2394be7',\n",
              " 'd075847c-008b-41dc-b424-9b6211cb568b',\n",
              " '3a8e63f6-185a-4d67-8144-80647f1167c3',\n",
              " 'ab2cf14c-387d-46aa-a3ac-aab960cf9566',\n",
              " 'bd453d24-db6f-4806-956b-9a648ec6aec2',\n",
              " '518f25ee-318e-48a8-957a-f3660813d7ff',\n",
              " 'b7ae1319-3a86-40f7-993b-86fd209b5884',\n",
              " '269fa300-85af-4e98-a3a3-414ac3af7a47',\n",
              " '23b5a6f8-c5eb-46bf-99a1-b11b620e87ed',\n",
              " '0d93f697-ef6c-4ac0-af28-7bc1c8c74219',\n",
              " 'e4b1bc28-c4c1-4f24-ac80-dfb3370021ab',\n",
              " '670d56e6-4f19-4205-8b8c-7ad7cd2241d8',\n",
              " '02297730-f687-4ba7-b72a-93a4822e6468',\n",
              " '3f40f778-d991-4626-86d8-22e54c39cc59',\n",
              " '7e69c95c-6e8f-467e-afdf-ca474dd974c6',\n",
              " '23d06e4f-377b-4af6-9d3c-e6bbfa7a12d5',\n",
              " 'c471b7fd-7cd7-4b83-b6fb-d2f6e837e740',\n",
              " '9aa071f2-d807-4897-910b-08bd039a2efd',\n",
              " '74ee4be0-f1c1-4f32-a6da-d39e87458f2e',\n",
              " 'fc54073d-caa2-40ad-a616-d815c1a26e81',\n",
              " '375e72c9-ba2b-4eb2-b32e-c45757526e60',\n",
              " '0825f544-b219-4944-97ac-95482fbb71c5',\n",
              " '4ac3ef4f-ecfe-4b79-bee7-93f029df332c',\n",
              " '39697c24-538e-41a6-b00c-7c477a822f49',\n",
              " '578baff4-bd72-4f0c-ac88-72b0ce3eb25c',\n",
              " '830be1b7-aa08-4713-9a90-34e83f200eb4',\n",
              " '4269157b-6eec-4afe-8a33-ae217b9dc391',\n",
              " '3d5ea829-c8d6-4f7a-8c0d-a1892c6b67d3',\n",
              " '0dd960dd-471b-418d-8f40-355b145511e7',\n",
              " 'a9d27891-d636-4535-9e1d-c95a43c5739b',\n",
              " 'c8aa8769-cef3-429f-ac02-d47c0f0aeac8',\n",
              " '1e44ddb8-d36c-46c5-a1b5-a1d2a4ed10e8',\n",
              " '508b27ca-17a9-423d-b61b-c20bde2b57df',\n",
              " 'bd53cba6-61a2-4cfb-b4cc-4e2f03b1b86e',\n",
              " 'e545d410-dbc2-46d6-9031-5a31dfed5c1d',\n",
              " '2e00e962-cabf-4b0b-891c-243df80e1191',\n",
              " '822bb30c-1809-41b0-b81a-3185e10265ee',\n",
              " '3da120ef-649b-4272-bdfe-2ffcad65c048',\n",
              " '9b9f5a1c-3a67-4606-b125-3d6a34542ac2',\n",
              " '9bacddcc-ca14-4b2a-87cc-a604dbc3be86',\n",
              " '0cfab2e3-34ad-480f-9bb4-3c75955b7562',\n",
              " 'a4da1532-f9ca-45c0-a592-272381299311',\n",
              " '090b1e4c-2e1b-4ea0-822e-28d170455f74',\n",
              " '7e28c4c7-57a8-42a0-a558-725077ef0a6b',\n",
              " '7fdebe90-3191-444d-bc5a-d681e2e57a59',\n",
              " '027f3970-4740-4320-9ed4-a6cbd7b9e45c',\n",
              " '64da6c75-b6cb-4dcf-bba0-8aaae5760187',\n",
              " '93b64471-e8df-43d5-a57b-57c207769e16',\n",
              " 'ecd4e178-f760-4eca-b71c-a5849b33c45a',\n",
              " '8a207e76-5bb1-4b94-9c93-d82092eb571e',\n",
              " '8bfa70c3-8d0d-4b09-893e-dd9e352afb83',\n",
              " 'ecc3a9d1-50d4-4146-86af-d3c099e14133',\n",
              " 'e5343b53-d57c-427d-a2e2-c5c049e566b6',\n",
              " '10140fce-7b9c-478b-bf34-b5a494677c55',\n",
              " 'a398ff53-4e9c-40bb-8720-eb5024efbc72',\n",
              " '7e5806f5-6b7a-4f92-896e-9fe8971fa051',\n",
              " '3f20ce38-13df-4ca3-ae2e-83e281e5f950',\n",
              " '9626b5c6-d0df-4a05-bb80-23255c90231c',\n",
              " '58ed3360-6e87-4577-991c-3cd4268213de',\n",
              " '139618a7-6947-432e-80b5-1e6720fe19d8',\n",
              " 'bb124f36-8b69-4749-993d-cf67da402862',\n",
              " 'f6a3a25c-9309-4d4e-9673-eefebabf1302',\n",
              " '982efd07-fb19-452c-b125-ccba7b741b37',\n",
              " '2fabcb62-252d-4dce-a7b6-b0590628638f',\n",
              " '6f3ff340-26e8-457e-8283-c21d0be19a43',\n",
              " '12bbe437-aa62-4388-b9e4-689d242f2dad',\n",
              " 'b9fe35f6-b686-4381-9cd1-9a3992f0b48d']"
            ]
          },
          "metadata": {},
          "execution_count": 51
        }
      ]
    },
    {
      "cell_type": "markdown",
      "source": [
        "## Similarity Search"
      ],
      "metadata": {
        "id": "PvS-Qi8l919d"
      }
    },
    {
      "cell_type": "code",
      "source": [
        "query = \"YOLOv7 outperforms which models\""
      ],
      "metadata": {
        "id": "BpN4A4uO90yN"
      },
      "execution_count": null,
      "outputs": []
    },
    {
      "cell_type": "code",
      "source": [
        "res = vectorstore.similarity_search(query)\n",
        "\n",
        "for r in res:\n",
        "  print(r.page_content)"
      ],
      "metadata": {
        "colab": {
          "base_uri": "https://localhost:8080/"
        },
        "id": "IoiGeKlv96zl",
        "outputId": "e6fa68cd-6a5b-4fc0-9518-b5390e20a034"
      },
      "execution_count": null,
      "outputs": [
        {
          "output_type": "stream",
          "name": "stdout",
          "text": [
            "Table 9: More comparison (batch=1, no-TRT, without extra object detection training data)\n",
            "Model #Param. FLOPs Size FPSV 100 APtest / APval APtest\n",
            "50 APtest\n",
            "75\n",
            "YOLOv7-tiny-SiLU 6.2M 13.8G 640 286 38.7% / 38.7% 56.7% 41.7%\n",
            "PPYOLOE-S [85] 7.9M 17.4G 640 208 43.1% / 42.7% 60.5% 46.6%\n",
            "YOLOv7 36.9M 104.7G 640 161 51.4% / 51.2% 69.7% 55.9%\n",
            "YOLOv5-N (r6.1) [23] 1.9M 4.5G 640 159 - / 28.0% - -\n",
            "YOLOv5-S (r6.1) [23] 7.2M 16.5G 640 156 - / 37.4% - -\n",
            "If we compare YOLOv7 with YOLOR using the input\n",
            "resolution 1280, the inference speed of YOLOv7-W6 is 8\n",
            "fps faster than that of YOLOR-P6, and the detection rate is\n",
            "also increased by 1% AP. As for the comparison between\n",
            "YOLOv7-E6 and YOLOv5-X6 (r6.1), the former has 0.9%\n",
            "AP gain than the latter, 45% less parameters and 63% less\n",
            "computation, and the inference speed is increased by 47%.\n",
            "YOLOv7-D6 has close inference speed to YOLOR-E6, but\n",
            "improves AP by 0.8%. YOLOv7-E6E has close inference\n",
            "is 127 fps faster and 10.7% more accurate on AP. In ad-\n",
            "dition, YOLOv7 has 51.4% AP at frame rate of 161 fps,\n",
            "while PPYOLOE-L with the same AP has only 78 fps frame\n",
            "rate. In terms of parameter usage, YOLOv7 is 41% less than\n",
            "PPYOLOE-L. If we compare YOLOv7-X with 114 fps in-\n",
            "ference speed to YOLOv5-L (r6.1) with 99 fps inference\n",
            "speed, YOLOv7-X can improve AP by 3.9%. If YOLOv7-\n",
            "X is compared with YOLOv5-X (r6.1) of similar scale, the\n",
            "inference speed of YOLOv7-X is 31 fps faster. In addi-\n",
            "Table 1: Comparison of baseline object detectors.\n",
            "Model #Param. FLOPs Size AP val APval\n",
            "50 APval\n",
            "75 APval\n",
            "S APval\n",
            "M APval\n",
            "L\n",
            "YOLOv4 [3] 64.4M 142.8G 640 49.7% 68.2% 54.3% 32.9% 54.8% 63.7%\n",
            "YOLOR-u5 (r6.1) [81] 46.5M 109.1G 640 50.2% 68.7% 54.6% 33.2% 55.5% 63.7%\n",
            "YOLOv4-CSP [79] 52.9M 120.4G 640 50.3% 68.6% 54.9% 34.2% 55.6% 65.1%\n",
            "YOLOR-CSP [81] 52.9M 120.4G 640 50.8% 69.5% 55.3% 33.7% 56.0% 65.4%\n",
            "YOLOv7 36.9M 104.7G 640 51.2% 69.7% 55.5% 35.2% 56.0% 66.7%\n"
          ]
        }
      ]
    },
    {
      "cell_type": "markdown",
      "source": [
        "## Creating a LLM Model Wrapper"
      ],
      "metadata": {
        "id": "s979yBCI-U7g"
      }
    },
    {
      "cell_type": "code",
      "source": [
        "llm = GoogleGenerativeAI(model=\"gemini-pro\")"
      ],
      "metadata": {
        "id": "zDoLPwtX-QLm"
      },
      "execution_count": null,
      "outputs": []
    },
    {
      "cell_type": "code",
      "source": [
        "qa = RetrievalQA.from_chain_type(llm=llm, chain_type=\"stuff\", retriever=vectorstore.as_retriever())\n"
      ],
      "metadata": {
        "id": "f8VAKerY-Wq-"
      },
      "execution_count": null,
      "outputs": []
    },
    {
      "cell_type": "markdown",
      "source": [
        "## Q/A"
      ],
      "metadata": {
        "id": "omexyHti-de2"
      }
    },
    {
      "cell_type": "code",
      "source": [
        "query = \"YOLOv7 outperforms which models\""
      ],
      "metadata": {
        "id": "DJ2oUzhp-eFe"
      },
      "execution_count": null,
      "outputs": []
    },
    {
      "cell_type": "code",
      "source": [
        "qa.invoke(query)"
      ],
      "metadata": {
        "colab": {
          "base_uri": "https://localhost:8080/"
        },
        "id": "ZP3jsXJK-gR2",
        "outputId": "a83a3ac5-9821-4be8-e07e-b3f652699627"
      },
      "execution_count": null,
      "outputs": [
        {
          "output_type": "execute_result",
          "data": {
            "text/plain": [
              "{'query': 'YOLOv7 outperforms which models',\n",
              " 'result': 'YOLOv7 outperforms YOLOv5-L (r6.1), YOLOv5-X (r6.1), PPYOLOE-L, YOLOR-P6, YOLOR-E6, and YOLOv5-N (r6.1).'}"
            ]
          },
          "metadata": {},
          "execution_count": 65
        }
      ]
    },
    {
      "cell_type": "code",
      "source": [
        "query = \"Rachel Green Experience\""
      ],
      "metadata": {
        "id": "0GB2q2JL-hvW"
      },
      "execution_count": null,
      "outputs": []
    },
    {
      "cell_type": "code",
      "source": [
        "qa.invoke(query)"
      ],
      "metadata": {
        "colab": {
          "base_uri": "https://localhost:8080/"
        },
        "id": "iG6rokPz-ryf",
        "outputId": "82ef3f7c-348f-48e9-ff80-ac3a67f89aba"
      },
      "execution_count": null,
      "outputs": [
        {
          "output_type": "execute_result",
          "data": {
            "text/plain": [
              "{'query': 'Rachel Green Experience',\n",
              " 'result': 'I do not have enough information to answer the question.'}"
            ]
          },
          "metadata": {},
          "execution_count": 67
        }
      ]
    },
    {
      "cell_type": "code",
      "source": [
        "import sys"
      ],
      "metadata": {
        "id": "JzvcwuZB-0T-"
      },
      "execution_count": null,
      "outputs": []
    },
    {
      "cell_type": "code",
      "source": [
        "while True:\n",
        "  user_input = input(f\"Input Prompt: \")\n",
        "  if user_input == 'exit':\n",
        "    print('Exiting')\n",
        "    sys.exit()\n",
        "  if user_input == '':\n",
        "    continue\n",
        "  result = qa({'query': user_input})\n",
        "  print(f\"Answer: {result['result']}\")"
      ],
      "metadata": {
        "colab": {
          "base_uri": "https://localhost:8080/",
          "height": 283
        },
        "id": "mdnCaS9o-swH",
        "outputId": "c4d2230c-f6a6-4c14-b85d-3e3e622a8663"
      },
      "execution_count": null,
      "outputs": [
        {
          "output_type": "stream",
          "name": "stdout",
          "text": [
            "Input Prompt: what is yolo v7\n",
            "Answer:  YOLOv7 is a real-time object detector which surpasses all known object detectors in both speed and accuracy. It has the highest accuracy of 56.8% AP among all known detectors and can run from 5 FPS to 160 FPS.\n",
            "Input Prompt: tell me about Rechel Green\n",
            "Answer:  Rachel Green is a PhD in English from the University of Illinois at Urbana-Champaign. Her dissertation title was “Down on the Farm: World War One and the Emergence of Literary Modernism in the American South.” She also has a MA in English and was awarded a Summer Research Grant, a Graduate College Conference Travel Grant, Most Outstanding Butler Woman, and an Academic Scholarship. She has published extensively and has given multiple conference presentations.\n",
            "Input Prompt: exit\n",
            "Exiting\n"
          ]
        },
        {
          "output_type": "error",
          "ename": "SystemExit",
          "evalue": "ignored",
          "traceback": [
            "An exception has occurred, use %tb to see the full traceback.\n",
            "\u001b[0;31mSystemExit\u001b[0m\n"
          ]
        },
        {
          "output_type": "stream",
          "name": "stderr",
          "text": [
            "/usr/local/lib/python3.10/dist-packages/IPython/core/interactiveshell.py:3561: UserWarning: To exit: use 'exit', 'quit', or Ctrl-D.\n",
            "  warn(\"To exit: use 'exit', 'quit', or Ctrl-D.\", stacklevel=1)\n"
          ]
        }
      ]
    },
    {
      "cell_type": "code",
      "source": [],
      "metadata": {
        "id": "n8_W97tQ-6-W"
      },
      "execution_count": null,
      "outputs": []
    }
  ]
}